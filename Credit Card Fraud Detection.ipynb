{
 "cells": [
  {
   "cell_type": "code",
   "execution_count": 1,
   "id": "e48a28d1",
   "metadata": {},
   "outputs": [],
   "source": [
    "import pandas as pd\n",
    "import matplotlib.pyplot as plt\n",
    "import seaborn as sns\n",
    "from sklearn.linear_model import LogisticRegression\n",
    "from sklearn.ensemble import RandomForestClassifier\n",
    "from sklearn.tree import DecisionTreeClassifier\n",
    "from sklearn.metrics import confusion_matrix,accuracy_score,classification_report"
   ]
  },
  {
   "cell_type": "code",
   "execution_count": 2,
   "id": "98795348",
   "metadata": {},
   "outputs": [],
   "source": [
    "train_df=pd.read_csv('C:/Users/hp/Desktop/Datasets/credit card fraud/fraudTrain.csv')\n",
    "test_df=pd.read_csv('C:/Users/hp/Desktop/Datasets/credit card fraud/fraudTest.csv')"
   ]
  },
  {
   "cell_type": "code",
   "execution_count": 3,
   "id": "057a4fd1",
   "metadata": {},
   "outputs": [
    {
     "data": {
      "text/html": [
       "<div>\n",
       "<style scoped>\n",
       "    .dataframe tbody tr th:only-of-type {\n",
       "        vertical-align: middle;\n",
       "    }\n",
       "\n",
       "    .dataframe tbody tr th {\n",
       "        vertical-align: top;\n",
       "    }\n",
       "\n",
       "    .dataframe thead th {\n",
       "        text-align: right;\n",
       "    }\n",
       "</style>\n",
       "<table border=\"1\" class=\"dataframe\">\n",
       "  <thead>\n",
       "    <tr style=\"text-align: right;\">\n",
       "      <th></th>\n",
       "      <th>Unnamed: 0</th>\n",
       "      <th>trans_date_trans_time</th>\n",
       "      <th>cc_num</th>\n",
       "      <th>merchant</th>\n",
       "      <th>category</th>\n",
       "      <th>amt</th>\n",
       "      <th>first</th>\n",
       "      <th>last</th>\n",
       "      <th>gender</th>\n",
       "      <th>street</th>\n",
       "      <th>...</th>\n",
       "      <th>lat</th>\n",
       "      <th>long</th>\n",
       "      <th>city_pop</th>\n",
       "      <th>job</th>\n",
       "      <th>dob</th>\n",
       "      <th>trans_num</th>\n",
       "      <th>unix_time</th>\n",
       "      <th>merch_lat</th>\n",
       "      <th>merch_long</th>\n",
       "      <th>is_fraud</th>\n",
       "    </tr>\n",
       "  </thead>\n",
       "  <tbody>\n",
       "    <tr>\n",
       "      <th>0</th>\n",
       "      <td>0</td>\n",
       "      <td>2019-01-01 00:00:18</td>\n",
       "      <td>2703186189652095</td>\n",
       "      <td>fraud_Rippin, Kub and Mann</td>\n",
       "      <td>misc_net</td>\n",
       "      <td>4.97</td>\n",
       "      <td>Jennifer</td>\n",
       "      <td>Banks</td>\n",
       "      <td>F</td>\n",
       "      <td>561 Perry Cove</td>\n",
       "      <td>...</td>\n",
       "      <td>36.0788</td>\n",
       "      <td>-81.1781</td>\n",
       "      <td>3495</td>\n",
       "      <td>Psychologist, counselling</td>\n",
       "      <td>1988-03-09</td>\n",
       "      <td>0b242abb623afc578575680df30655b9</td>\n",
       "      <td>1325376018</td>\n",
       "      <td>36.011293</td>\n",
       "      <td>-82.048315</td>\n",
       "      <td>0</td>\n",
       "    </tr>\n",
       "    <tr>\n",
       "      <th>1</th>\n",
       "      <td>1</td>\n",
       "      <td>2019-01-01 00:00:44</td>\n",
       "      <td>630423337322</td>\n",
       "      <td>fraud_Heller, Gutmann and Zieme</td>\n",
       "      <td>grocery_pos</td>\n",
       "      <td>107.23</td>\n",
       "      <td>Stephanie</td>\n",
       "      <td>Gill</td>\n",
       "      <td>F</td>\n",
       "      <td>43039 Riley Greens Suite 393</td>\n",
       "      <td>...</td>\n",
       "      <td>48.8878</td>\n",
       "      <td>-118.2105</td>\n",
       "      <td>149</td>\n",
       "      <td>Special educational needs teacher</td>\n",
       "      <td>1978-06-21</td>\n",
       "      <td>1f76529f8574734946361c461b024d99</td>\n",
       "      <td>1325376044</td>\n",
       "      <td>49.159047</td>\n",
       "      <td>-118.186462</td>\n",
       "      <td>0</td>\n",
       "    </tr>\n",
       "    <tr>\n",
       "      <th>2</th>\n",
       "      <td>2</td>\n",
       "      <td>2019-01-01 00:00:51</td>\n",
       "      <td>38859492057661</td>\n",
       "      <td>fraud_Lind-Buckridge</td>\n",
       "      <td>entertainment</td>\n",
       "      <td>220.11</td>\n",
       "      <td>Edward</td>\n",
       "      <td>Sanchez</td>\n",
       "      <td>M</td>\n",
       "      <td>594 White Dale Suite 530</td>\n",
       "      <td>...</td>\n",
       "      <td>42.1808</td>\n",
       "      <td>-112.2620</td>\n",
       "      <td>4154</td>\n",
       "      <td>Nature conservation officer</td>\n",
       "      <td>1962-01-19</td>\n",
       "      <td>a1a22d70485983eac12b5b88dad1cf95</td>\n",
       "      <td>1325376051</td>\n",
       "      <td>43.150704</td>\n",
       "      <td>-112.154481</td>\n",
       "      <td>0</td>\n",
       "    </tr>\n",
       "    <tr>\n",
       "      <th>3</th>\n",
       "      <td>3</td>\n",
       "      <td>2019-01-01 00:01:16</td>\n",
       "      <td>3534093764340240</td>\n",
       "      <td>fraud_Kutch, Hermiston and Farrell</td>\n",
       "      <td>gas_transport</td>\n",
       "      <td>45.00</td>\n",
       "      <td>Jeremy</td>\n",
       "      <td>White</td>\n",
       "      <td>M</td>\n",
       "      <td>9443 Cynthia Court Apt. 038</td>\n",
       "      <td>...</td>\n",
       "      <td>46.2306</td>\n",
       "      <td>-112.1138</td>\n",
       "      <td>1939</td>\n",
       "      <td>Patent attorney</td>\n",
       "      <td>1967-01-12</td>\n",
       "      <td>6b849c168bdad6f867558c3793159a81</td>\n",
       "      <td>1325376076</td>\n",
       "      <td>47.034331</td>\n",
       "      <td>-112.561071</td>\n",
       "      <td>0</td>\n",
       "    </tr>\n",
       "    <tr>\n",
       "      <th>4</th>\n",
       "      <td>4</td>\n",
       "      <td>2019-01-01 00:03:06</td>\n",
       "      <td>375534208663984</td>\n",
       "      <td>fraud_Keeling-Crist</td>\n",
       "      <td>misc_pos</td>\n",
       "      <td>41.96</td>\n",
       "      <td>Tyler</td>\n",
       "      <td>Garcia</td>\n",
       "      <td>M</td>\n",
       "      <td>408 Bradley Rest</td>\n",
       "      <td>...</td>\n",
       "      <td>38.4207</td>\n",
       "      <td>-79.4629</td>\n",
       "      <td>99</td>\n",
       "      <td>Dance movement psychotherapist</td>\n",
       "      <td>1986-03-28</td>\n",
       "      <td>a41d7549acf90789359a9aa5346dcb46</td>\n",
       "      <td>1325376186</td>\n",
       "      <td>38.674999</td>\n",
       "      <td>-78.632459</td>\n",
       "      <td>0</td>\n",
       "    </tr>\n",
       "  </tbody>\n",
       "</table>\n",
       "<p>5 rows × 23 columns</p>\n",
       "</div>"
      ],
      "text/plain": [
       "   Unnamed: 0 trans_date_trans_time            cc_num  \\\n",
       "0           0   2019-01-01 00:00:18  2703186189652095   \n",
       "1           1   2019-01-01 00:00:44      630423337322   \n",
       "2           2   2019-01-01 00:00:51    38859492057661   \n",
       "3           3   2019-01-01 00:01:16  3534093764340240   \n",
       "4           4   2019-01-01 00:03:06   375534208663984   \n",
       "\n",
       "                             merchant       category     amt      first  \\\n",
       "0          fraud_Rippin, Kub and Mann       misc_net    4.97   Jennifer   \n",
       "1     fraud_Heller, Gutmann and Zieme    grocery_pos  107.23  Stephanie   \n",
       "2                fraud_Lind-Buckridge  entertainment  220.11     Edward   \n",
       "3  fraud_Kutch, Hermiston and Farrell  gas_transport   45.00     Jeremy   \n",
       "4                 fraud_Keeling-Crist       misc_pos   41.96      Tyler   \n",
       "\n",
       "      last gender                        street  ...      lat      long  \\\n",
       "0    Banks      F                561 Perry Cove  ...  36.0788  -81.1781   \n",
       "1     Gill      F  43039 Riley Greens Suite 393  ...  48.8878 -118.2105   \n",
       "2  Sanchez      M      594 White Dale Suite 530  ...  42.1808 -112.2620   \n",
       "3    White      M   9443 Cynthia Court Apt. 038  ...  46.2306 -112.1138   \n",
       "4   Garcia      M              408 Bradley Rest  ...  38.4207  -79.4629   \n",
       "\n",
       "   city_pop                                job         dob  \\\n",
       "0      3495          Psychologist, counselling  1988-03-09   \n",
       "1       149  Special educational needs teacher  1978-06-21   \n",
       "2      4154        Nature conservation officer  1962-01-19   \n",
       "3      1939                    Patent attorney  1967-01-12   \n",
       "4        99     Dance movement psychotherapist  1986-03-28   \n",
       "\n",
       "                          trans_num   unix_time  merch_lat  merch_long  \\\n",
       "0  0b242abb623afc578575680df30655b9  1325376018  36.011293  -82.048315   \n",
       "1  1f76529f8574734946361c461b024d99  1325376044  49.159047 -118.186462   \n",
       "2  a1a22d70485983eac12b5b88dad1cf95  1325376051  43.150704 -112.154481   \n",
       "3  6b849c168bdad6f867558c3793159a81  1325376076  47.034331 -112.561071   \n",
       "4  a41d7549acf90789359a9aa5346dcb46  1325376186  38.674999  -78.632459   \n",
       "\n",
       "   is_fraud  \n",
       "0         0  \n",
       "1         0  \n",
       "2         0  \n",
       "3         0  \n",
       "4         0  \n",
       "\n",
       "[5 rows x 23 columns]"
      ]
     },
     "execution_count": 3,
     "metadata": {},
     "output_type": "execute_result"
    }
   ],
   "source": [
    "train_df.head()"
   ]
  },
  {
   "cell_type": "code",
   "execution_count": 4,
   "id": "bde25cfe",
   "metadata": {},
   "outputs": [
    {
     "name": "stdout",
     "output_type": "stream",
     "text": [
      "Yes 7506\n",
      "No 1289169\n"
     ]
    }
   ],
   "source": [
    "is_fraud=train_df['is_fraud'].value_counts()\n",
    "print(\"Yes\",is_fraud[1])\n",
    "print('No',is_fraud[0])"
   ]
  },
  {
   "cell_type": "code",
   "execution_count": 5,
   "id": "7c5cf201",
   "metadata": {},
   "outputs": [],
   "source": [
    "#### data is un-balanced"
   ]
  },
  {
   "cell_type": "code",
   "execution_count": 6,
   "id": "3fde3e00",
   "metadata": {},
   "outputs": [],
   "source": [
    "def preprocessing(df):\n",
    "    columns=df.shape[1]\n",
    "    print('Total no of columns are : ',columns)\n",
    "    rows=df.shape[0]\n",
    "    print('Total no of rows are : ',rows)\n",
    "    missing_num=df.isnull().sum()\n",
    "    print('Total missing no are :\\n',missing_num)\n",
    "    duplicated=df.duplicated().sum()\n",
    "    print('Total no of duplicates are : ',duplicated)\n",
    "    data_types=df.dtypes\n",
    "    print('The datatypes in dataset are :\\n ',data_types)\n",
    "    return(df)"
   ]
  },
  {
   "cell_type": "code",
   "execution_count": 7,
   "id": "e181ebbe",
   "metadata": {},
   "outputs": [
    {
     "name": "stdout",
     "output_type": "stream",
     "text": [
      "Total no of columns are :  23\n",
      "Total no of rows are :  1296675\n",
      "Total missing no are :\n",
      " Unnamed: 0               0\n",
      "trans_date_trans_time    0\n",
      "cc_num                   0\n",
      "merchant                 0\n",
      "category                 0\n",
      "amt                      0\n",
      "first                    0\n",
      "last                     0\n",
      "gender                   0\n",
      "street                   0\n",
      "city                     0\n",
      "state                    0\n",
      "zip                      0\n",
      "lat                      0\n",
      "long                     0\n",
      "city_pop                 0\n",
      "job                      0\n",
      "dob                      0\n",
      "trans_num                0\n",
      "unix_time                0\n",
      "merch_lat                0\n",
      "merch_long               0\n",
      "is_fraud                 0\n",
      "dtype: int64\n",
      "Total no of duplicates are :  0\n",
      "The datatypes in dataset are :\n",
      "  Unnamed: 0                 int64\n",
      "trans_date_trans_time     object\n",
      "cc_num                     int64\n",
      "merchant                  object\n",
      "category                  object\n",
      "amt                      float64\n",
      "first                     object\n",
      "last                      object\n",
      "gender                    object\n",
      "street                    object\n",
      "city                      object\n",
      "state                     object\n",
      "zip                        int64\n",
      "lat                      float64\n",
      "long                     float64\n",
      "city_pop                   int64\n",
      "job                       object\n",
      "dob                       object\n",
      "trans_num                 object\n",
      "unix_time                  int64\n",
      "merch_lat                float64\n",
      "merch_long               float64\n",
      "is_fraud                   int64\n",
      "dtype: object\n"
     ]
    },
    {
     "data": {
      "text/html": [
       "<div>\n",
       "<style scoped>\n",
       "    .dataframe tbody tr th:only-of-type {\n",
       "        vertical-align: middle;\n",
       "    }\n",
       "\n",
       "    .dataframe tbody tr th {\n",
       "        vertical-align: top;\n",
       "    }\n",
       "\n",
       "    .dataframe thead th {\n",
       "        text-align: right;\n",
       "    }\n",
       "</style>\n",
       "<table border=\"1\" class=\"dataframe\">\n",
       "  <thead>\n",
       "    <tr style=\"text-align: right;\">\n",
       "      <th></th>\n",
       "      <th>Unnamed: 0</th>\n",
       "      <th>trans_date_trans_time</th>\n",
       "      <th>cc_num</th>\n",
       "      <th>merchant</th>\n",
       "      <th>category</th>\n",
       "      <th>amt</th>\n",
       "      <th>first</th>\n",
       "      <th>last</th>\n",
       "      <th>gender</th>\n",
       "      <th>street</th>\n",
       "      <th>...</th>\n",
       "      <th>lat</th>\n",
       "      <th>long</th>\n",
       "      <th>city_pop</th>\n",
       "      <th>job</th>\n",
       "      <th>dob</th>\n",
       "      <th>trans_num</th>\n",
       "      <th>unix_time</th>\n",
       "      <th>merch_lat</th>\n",
       "      <th>merch_long</th>\n",
       "      <th>is_fraud</th>\n",
       "    </tr>\n",
       "  </thead>\n",
       "  <tbody>\n",
       "    <tr>\n",
       "      <th>0</th>\n",
       "      <td>0</td>\n",
       "      <td>2019-01-01 00:00:18</td>\n",
       "      <td>2703186189652095</td>\n",
       "      <td>fraud_Rippin, Kub and Mann</td>\n",
       "      <td>misc_net</td>\n",
       "      <td>4.97</td>\n",
       "      <td>Jennifer</td>\n",
       "      <td>Banks</td>\n",
       "      <td>F</td>\n",
       "      <td>561 Perry Cove</td>\n",
       "      <td>...</td>\n",
       "      <td>36.0788</td>\n",
       "      <td>-81.1781</td>\n",
       "      <td>3495</td>\n",
       "      <td>Psychologist, counselling</td>\n",
       "      <td>1988-03-09</td>\n",
       "      <td>0b242abb623afc578575680df30655b9</td>\n",
       "      <td>1325376018</td>\n",
       "      <td>36.011293</td>\n",
       "      <td>-82.048315</td>\n",
       "      <td>0</td>\n",
       "    </tr>\n",
       "    <tr>\n",
       "      <th>1</th>\n",
       "      <td>1</td>\n",
       "      <td>2019-01-01 00:00:44</td>\n",
       "      <td>630423337322</td>\n",
       "      <td>fraud_Heller, Gutmann and Zieme</td>\n",
       "      <td>grocery_pos</td>\n",
       "      <td>107.23</td>\n",
       "      <td>Stephanie</td>\n",
       "      <td>Gill</td>\n",
       "      <td>F</td>\n",
       "      <td>43039 Riley Greens Suite 393</td>\n",
       "      <td>...</td>\n",
       "      <td>48.8878</td>\n",
       "      <td>-118.2105</td>\n",
       "      <td>149</td>\n",
       "      <td>Special educational needs teacher</td>\n",
       "      <td>1978-06-21</td>\n",
       "      <td>1f76529f8574734946361c461b024d99</td>\n",
       "      <td>1325376044</td>\n",
       "      <td>49.159047</td>\n",
       "      <td>-118.186462</td>\n",
       "      <td>0</td>\n",
       "    </tr>\n",
       "    <tr>\n",
       "      <th>2</th>\n",
       "      <td>2</td>\n",
       "      <td>2019-01-01 00:00:51</td>\n",
       "      <td>38859492057661</td>\n",
       "      <td>fraud_Lind-Buckridge</td>\n",
       "      <td>entertainment</td>\n",
       "      <td>220.11</td>\n",
       "      <td>Edward</td>\n",
       "      <td>Sanchez</td>\n",
       "      <td>M</td>\n",
       "      <td>594 White Dale Suite 530</td>\n",
       "      <td>...</td>\n",
       "      <td>42.1808</td>\n",
       "      <td>-112.2620</td>\n",
       "      <td>4154</td>\n",
       "      <td>Nature conservation officer</td>\n",
       "      <td>1962-01-19</td>\n",
       "      <td>a1a22d70485983eac12b5b88dad1cf95</td>\n",
       "      <td>1325376051</td>\n",
       "      <td>43.150704</td>\n",
       "      <td>-112.154481</td>\n",
       "      <td>0</td>\n",
       "    </tr>\n",
       "    <tr>\n",
       "      <th>3</th>\n",
       "      <td>3</td>\n",
       "      <td>2019-01-01 00:01:16</td>\n",
       "      <td>3534093764340240</td>\n",
       "      <td>fraud_Kutch, Hermiston and Farrell</td>\n",
       "      <td>gas_transport</td>\n",
       "      <td>45.00</td>\n",
       "      <td>Jeremy</td>\n",
       "      <td>White</td>\n",
       "      <td>M</td>\n",
       "      <td>9443 Cynthia Court Apt. 038</td>\n",
       "      <td>...</td>\n",
       "      <td>46.2306</td>\n",
       "      <td>-112.1138</td>\n",
       "      <td>1939</td>\n",
       "      <td>Patent attorney</td>\n",
       "      <td>1967-01-12</td>\n",
       "      <td>6b849c168bdad6f867558c3793159a81</td>\n",
       "      <td>1325376076</td>\n",
       "      <td>47.034331</td>\n",
       "      <td>-112.561071</td>\n",
       "      <td>0</td>\n",
       "    </tr>\n",
       "    <tr>\n",
       "      <th>4</th>\n",
       "      <td>4</td>\n",
       "      <td>2019-01-01 00:03:06</td>\n",
       "      <td>375534208663984</td>\n",
       "      <td>fraud_Keeling-Crist</td>\n",
       "      <td>misc_pos</td>\n",
       "      <td>41.96</td>\n",
       "      <td>Tyler</td>\n",
       "      <td>Garcia</td>\n",
       "      <td>M</td>\n",
       "      <td>408 Bradley Rest</td>\n",
       "      <td>...</td>\n",
       "      <td>38.4207</td>\n",
       "      <td>-79.4629</td>\n",
       "      <td>99</td>\n",
       "      <td>Dance movement psychotherapist</td>\n",
       "      <td>1986-03-28</td>\n",
       "      <td>a41d7549acf90789359a9aa5346dcb46</td>\n",
       "      <td>1325376186</td>\n",
       "      <td>38.674999</td>\n",
       "      <td>-78.632459</td>\n",
       "      <td>0</td>\n",
       "    </tr>\n",
       "    <tr>\n",
       "      <th>...</th>\n",
       "      <td>...</td>\n",
       "      <td>...</td>\n",
       "      <td>...</td>\n",
       "      <td>...</td>\n",
       "      <td>...</td>\n",
       "      <td>...</td>\n",
       "      <td>...</td>\n",
       "      <td>...</td>\n",
       "      <td>...</td>\n",
       "      <td>...</td>\n",
       "      <td>...</td>\n",
       "      <td>...</td>\n",
       "      <td>...</td>\n",
       "      <td>...</td>\n",
       "      <td>...</td>\n",
       "      <td>...</td>\n",
       "      <td>...</td>\n",
       "      <td>...</td>\n",
       "      <td>...</td>\n",
       "      <td>...</td>\n",
       "      <td>...</td>\n",
       "    </tr>\n",
       "    <tr>\n",
       "      <th>1296670</th>\n",
       "      <td>1296670</td>\n",
       "      <td>2020-06-21 12:12:08</td>\n",
       "      <td>30263540414123</td>\n",
       "      <td>fraud_Reichel Inc</td>\n",
       "      <td>entertainment</td>\n",
       "      <td>15.56</td>\n",
       "      <td>Erik</td>\n",
       "      <td>Patterson</td>\n",
       "      <td>M</td>\n",
       "      <td>162 Jessica Row Apt. 072</td>\n",
       "      <td>...</td>\n",
       "      <td>37.7175</td>\n",
       "      <td>-112.4777</td>\n",
       "      <td>258</td>\n",
       "      <td>Geoscientist</td>\n",
       "      <td>1961-11-24</td>\n",
       "      <td>440b587732da4dc1a6395aba5fb41669</td>\n",
       "      <td>1371816728</td>\n",
       "      <td>36.841266</td>\n",
       "      <td>-111.690765</td>\n",
       "      <td>0</td>\n",
       "    </tr>\n",
       "    <tr>\n",
       "      <th>1296671</th>\n",
       "      <td>1296671</td>\n",
       "      <td>2020-06-21 12:12:19</td>\n",
       "      <td>6011149206456997</td>\n",
       "      <td>fraud_Abernathy and Sons</td>\n",
       "      <td>food_dining</td>\n",
       "      <td>51.70</td>\n",
       "      <td>Jeffrey</td>\n",
       "      <td>White</td>\n",
       "      <td>M</td>\n",
       "      <td>8617 Holmes Terrace Suite 651</td>\n",
       "      <td>...</td>\n",
       "      <td>39.2667</td>\n",
       "      <td>-77.5101</td>\n",
       "      <td>100</td>\n",
       "      <td>Production assistant, television</td>\n",
       "      <td>1979-12-11</td>\n",
       "      <td>278000d2e0d2277d1de2f890067dcc0a</td>\n",
       "      <td>1371816739</td>\n",
       "      <td>38.906881</td>\n",
       "      <td>-78.246528</td>\n",
       "      <td>0</td>\n",
       "    </tr>\n",
       "    <tr>\n",
       "      <th>1296672</th>\n",
       "      <td>1296672</td>\n",
       "      <td>2020-06-21 12:12:32</td>\n",
       "      <td>3514865930894695</td>\n",
       "      <td>fraud_Stiedemann Ltd</td>\n",
       "      <td>food_dining</td>\n",
       "      <td>105.93</td>\n",
       "      <td>Christopher</td>\n",
       "      <td>Castaneda</td>\n",
       "      <td>M</td>\n",
       "      <td>1632 Cohen Drive Suite 639</td>\n",
       "      <td>...</td>\n",
       "      <td>32.9396</td>\n",
       "      <td>-105.8189</td>\n",
       "      <td>899</td>\n",
       "      <td>Naval architect</td>\n",
       "      <td>1967-08-30</td>\n",
       "      <td>483f52fe67fabef353d552c1e662974c</td>\n",
       "      <td>1371816752</td>\n",
       "      <td>33.619513</td>\n",
       "      <td>-105.130529</td>\n",
       "      <td>0</td>\n",
       "    </tr>\n",
       "    <tr>\n",
       "      <th>1296673</th>\n",
       "      <td>1296673</td>\n",
       "      <td>2020-06-21 12:13:36</td>\n",
       "      <td>2720012583106919</td>\n",
       "      <td>fraud_Reinger, Weissnat and Strosin</td>\n",
       "      <td>food_dining</td>\n",
       "      <td>74.90</td>\n",
       "      <td>Joseph</td>\n",
       "      <td>Murray</td>\n",
       "      <td>M</td>\n",
       "      <td>42933 Ryan Underpass</td>\n",
       "      <td>...</td>\n",
       "      <td>43.3526</td>\n",
       "      <td>-102.5411</td>\n",
       "      <td>1126</td>\n",
       "      <td>Volunteer coordinator</td>\n",
       "      <td>1980-08-18</td>\n",
       "      <td>d667cdcbadaaed3da3f4020e83591c83</td>\n",
       "      <td>1371816816</td>\n",
       "      <td>42.788940</td>\n",
       "      <td>-103.241160</td>\n",
       "      <td>0</td>\n",
       "    </tr>\n",
       "    <tr>\n",
       "      <th>1296674</th>\n",
       "      <td>1296674</td>\n",
       "      <td>2020-06-21 12:13:37</td>\n",
       "      <td>4292902571056973207</td>\n",
       "      <td>fraud_Langosh, Wintheiser and Hyatt</td>\n",
       "      <td>food_dining</td>\n",
       "      <td>4.30</td>\n",
       "      <td>Jeffrey</td>\n",
       "      <td>Smith</td>\n",
       "      <td>M</td>\n",
       "      <td>135 Joseph Mountains</td>\n",
       "      <td>...</td>\n",
       "      <td>45.8433</td>\n",
       "      <td>-113.8748</td>\n",
       "      <td>218</td>\n",
       "      <td>Therapist, horticultural</td>\n",
       "      <td>1995-08-16</td>\n",
       "      <td>8f7c8e4ab7f25875d753b422917c98c9</td>\n",
       "      <td>1371816817</td>\n",
       "      <td>46.565983</td>\n",
       "      <td>-114.186110</td>\n",
       "      <td>0</td>\n",
       "    </tr>\n",
       "  </tbody>\n",
       "</table>\n",
       "<p>1296675 rows × 23 columns</p>\n",
       "</div>"
      ],
      "text/plain": [
       "         Unnamed: 0 trans_date_trans_time               cc_num  \\\n",
       "0                 0   2019-01-01 00:00:18     2703186189652095   \n",
       "1                 1   2019-01-01 00:00:44         630423337322   \n",
       "2                 2   2019-01-01 00:00:51       38859492057661   \n",
       "3                 3   2019-01-01 00:01:16     3534093764340240   \n",
       "4                 4   2019-01-01 00:03:06      375534208663984   \n",
       "...             ...                   ...                  ...   \n",
       "1296670     1296670   2020-06-21 12:12:08       30263540414123   \n",
       "1296671     1296671   2020-06-21 12:12:19     6011149206456997   \n",
       "1296672     1296672   2020-06-21 12:12:32     3514865930894695   \n",
       "1296673     1296673   2020-06-21 12:13:36     2720012583106919   \n",
       "1296674     1296674   2020-06-21 12:13:37  4292902571056973207   \n",
       "\n",
       "                                    merchant       category     amt  \\\n",
       "0                 fraud_Rippin, Kub and Mann       misc_net    4.97   \n",
       "1            fraud_Heller, Gutmann and Zieme    grocery_pos  107.23   \n",
       "2                       fraud_Lind-Buckridge  entertainment  220.11   \n",
       "3         fraud_Kutch, Hermiston and Farrell  gas_transport   45.00   \n",
       "4                        fraud_Keeling-Crist       misc_pos   41.96   \n",
       "...                                      ...            ...     ...   \n",
       "1296670                    fraud_Reichel Inc  entertainment   15.56   \n",
       "1296671             fraud_Abernathy and Sons    food_dining   51.70   \n",
       "1296672                 fraud_Stiedemann Ltd    food_dining  105.93   \n",
       "1296673  fraud_Reinger, Weissnat and Strosin    food_dining   74.90   \n",
       "1296674  fraud_Langosh, Wintheiser and Hyatt    food_dining    4.30   \n",
       "\n",
       "               first       last gender                         street  ...  \\\n",
       "0           Jennifer      Banks      F                 561 Perry Cove  ...   \n",
       "1          Stephanie       Gill      F   43039 Riley Greens Suite 393  ...   \n",
       "2             Edward    Sanchez      M       594 White Dale Suite 530  ...   \n",
       "3             Jeremy      White      M    9443 Cynthia Court Apt. 038  ...   \n",
       "4              Tyler     Garcia      M               408 Bradley Rest  ...   \n",
       "...              ...        ...    ...                            ...  ...   \n",
       "1296670         Erik  Patterson      M       162 Jessica Row Apt. 072  ...   \n",
       "1296671      Jeffrey      White      M  8617 Holmes Terrace Suite 651  ...   \n",
       "1296672  Christopher  Castaneda      M     1632 Cohen Drive Suite 639  ...   \n",
       "1296673       Joseph     Murray      M           42933 Ryan Underpass  ...   \n",
       "1296674      Jeffrey      Smith      M           135 Joseph Mountains  ...   \n",
       "\n",
       "             lat      long  city_pop                                job  \\\n",
       "0        36.0788  -81.1781      3495          Psychologist, counselling   \n",
       "1        48.8878 -118.2105       149  Special educational needs teacher   \n",
       "2        42.1808 -112.2620      4154        Nature conservation officer   \n",
       "3        46.2306 -112.1138      1939                    Patent attorney   \n",
       "4        38.4207  -79.4629        99     Dance movement psychotherapist   \n",
       "...          ...       ...       ...                                ...   \n",
       "1296670  37.7175 -112.4777       258                       Geoscientist   \n",
       "1296671  39.2667  -77.5101       100   Production assistant, television   \n",
       "1296672  32.9396 -105.8189       899                    Naval architect   \n",
       "1296673  43.3526 -102.5411      1126              Volunteer coordinator   \n",
       "1296674  45.8433 -113.8748       218           Therapist, horticultural   \n",
       "\n",
       "                dob                         trans_num   unix_time  merch_lat  \\\n",
       "0        1988-03-09  0b242abb623afc578575680df30655b9  1325376018  36.011293   \n",
       "1        1978-06-21  1f76529f8574734946361c461b024d99  1325376044  49.159047   \n",
       "2        1962-01-19  a1a22d70485983eac12b5b88dad1cf95  1325376051  43.150704   \n",
       "3        1967-01-12  6b849c168bdad6f867558c3793159a81  1325376076  47.034331   \n",
       "4        1986-03-28  a41d7549acf90789359a9aa5346dcb46  1325376186  38.674999   \n",
       "...             ...                               ...         ...        ...   \n",
       "1296670  1961-11-24  440b587732da4dc1a6395aba5fb41669  1371816728  36.841266   \n",
       "1296671  1979-12-11  278000d2e0d2277d1de2f890067dcc0a  1371816739  38.906881   \n",
       "1296672  1967-08-30  483f52fe67fabef353d552c1e662974c  1371816752  33.619513   \n",
       "1296673  1980-08-18  d667cdcbadaaed3da3f4020e83591c83  1371816816  42.788940   \n",
       "1296674  1995-08-16  8f7c8e4ab7f25875d753b422917c98c9  1371816817  46.565983   \n",
       "\n",
       "         merch_long  is_fraud  \n",
       "0        -82.048315         0  \n",
       "1       -118.186462         0  \n",
       "2       -112.154481         0  \n",
       "3       -112.561071         0  \n",
       "4        -78.632459         0  \n",
       "...             ...       ...  \n",
       "1296670 -111.690765         0  \n",
       "1296671  -78.246528         0  \n",
       "1296672 -105.130529         0  \n",
       "1296673 -103.241160         0  \n",
       "1296674 -114.186110         0  \n",
       "\n",
       "[1296675 rows x 23 columns]"
      ]
     },
     "execution_count": 7,
     "metadata": {},
     "output_type": "execute_result"
    }
   ],
   "source": [
    "preprocessing(train_df)"
   ]
  },
  {
   "cell_type": "code",
   "execution_count": 8,
   "id": "5672029b",
   "metadata": {},
   "outputs": [
    {
     "data": {
      "text/plain": [
       "gender\n",
       "F    709863\n",
       "M    586812\n",
       "Name: is_fraud, dtype: int64"
      ]
     },
     "execution_count": 8,
     "metadata": {},
     "output_type": "execute_result"
    }
   ],
   "source": [
    "train_df.groupby('gender')['is_fraud'].count()"
   ]
  },
  {
   "cell_type": "code",
   "execution_count": 9,
   "id": "0329b75d",
   "metadata": {},
   "outputs": [
    {
     "name": "stdout",
     "output_type": "stream",
     "text": [
      "Yes 7506\n",
      "No 1289169\n"
     ]
    }
   ],
   "source": [
    "is_fraud=train_df['is_fraud'].value_counts()\n",
    "print(\"Yes\",is_fraud[1])\n",
    "print('No',is_fraud[0])"
   ]
  },
  {
   "cell_type": "code",
   "execution_count": 10,
   "id": "3ea9e2ff",
   "metadata": {},
   "outputs": [
    {
     "data": {
      "text/plain": [
       "([<matplotlib.patches.Wedge at 0x2201907f010>,\n",
       "  <matplotlib.patches.Wedge at 0x22019089750>],\n",
       " [Text(-1.0998181131964657, 0.02000294690705531, 'yes'),\n",
       "  Text(1.0998181149229591, -0.020002851979370503, 'no')],\n",
       " [Text(-0.5999007890162539, 0.010910698312939258, '99%'),\n",
       "  Text(0.5999007899579777, -0.010910646534202092, '1%')])"
      ]
     },
     "execution_count": 10,
     "metadata": {},
     "output_type": "execute_result"
    },
    {
     "data": {
      "image/png": "[encoded data removed]",
      "text/plain": [
       "<Figure size 640x480 with 1 Axes>"
      ]
     },
     "metadata": {},
     "output_type": "display_data"
    }
   ],
   "source": [
    "plt.pie(is_fraud,labels=['yes','no'],autopct=\"%0.0f%%\")"
   ]
  },
  {
   "cell_type": "code",
   "execution_count": 11,
   "id": "3e34b461",
   "metadata": {},
   "outputs": [],
   "source": [
    "#### 99% is not fraud and only 1% is fraud leads to imbalanced data"
   ]
  },
  {
   "cell_type": "code",
   "execution_count": 12,
   "id": "9b7552fa",
   "metadata": {},
   "outputs": [],
   "source": [
    "#### Feature Engineering\n",
    "### converting object datatype to datetime"
   ]
  },
  {
   "cell_type": "code",
   "execution_count": 13,
   "id": "4a606aec",
   "metadata": {},
   "outputs": [],
   "source": [
    "train_df['trans_date_trans_time']=pd.to_datetime(train_df['trans_date_trans_time'])\n",
    "test_df['trans_date_trans_time']=pd.to_datetime(test_df['trans_date_trans_time'])"
   ]
  },
  {
   "cell_type": "code",
   "execution_count": 14,
   "id": "d13617e7",
   "metadata": {},
   "outputs": [],
   "source": [
    "train_df['hour']=train_df['trans_date_trans_time'].dt.hour\n",
    "test_df['hour']=test_df['trans_date_trans_time'].dt.hour"
   ]
  },
  {
   "cell_type": "code",
   "execution_count": 15,
   "id": "b640dfd0",
   "metadata": {},
   "outputs": [],
   "source": [
    "train_df['month']=train_df['trans_date_trans_time'].dt.month\n",
    "test_df['month']=test_df['trans_date_trans_time'].dt.month"
   ]
  },
  {
   "cell_type": "code",
   "execution_count": 16,
   "id": "a7964bf9",
   "metadata": {},
   "outputs": [
    {
     "data": {
      "text/html": [
       "<div>\n",
       "<style scoped>\n",
       "    .dataframe tbody tr th:only-of-type {\n",
       "        vertical-align: middle;\n",
       "    }\n",
       "\n",
       "    .dataframe tbody tr th {\n",
       "        vertical-align: top;\n",
       "    }\n",
       "\n",
       "    .dataframe thead th {\n",
       "        text-align: right;\n",
       "    }\n",
       "</style>\n",
       "<table border=\"1\" class=\"dataframe\">\n",
       "  <thead>\n",
       "    <tr style=\"text-align: right;\">\n",
       "      <th></th>\n",
       "      <th>Unnamed: 0</th>\n",
       "      <th>trans_date_trans_time</th>\n",
       "      <th>cc_num</th>\n",
       "      <th>merchant</th>\n",
       "      <th>category</th>\n",
       "      <th>amt</th>\n",
       "      <th>first</th>\n",
       "      <th>last</th>\n",
       "      <th>gender</th>\n",
       "      <th>street</th>\n",
       "      <th>...</th>\n",
       "      <th>city_pop</th>\n",
       "      <th>job</th>\n",
       "      <th>dob</th>\n",
       "      <th>trans_num</th>\n",
       "      <th>unix_time</th>\n",
       "      <th>merch_lat</th>\n",
       "      <th>merch_long</th>\n",
       "      <th>is_fraud</th>\n",
       "      <th>hour</th>\n",
       "      <th>month</th>\n",
       "    </tr>\n",
       "  </thead>\n",
       "  <tbody>\n",
       "    <tr>\n",
       "      <th>0</th>\n",
       "      <td>0</td>\n",
       "      <td>2019-01-01 00:00:18</td>\n",
       "      <td>2703186189652095</td>\n",
       "      <td>fraud_Rippin, Kub and Mann</td>\n",
       "      <td>misc_net</td>\n",
       "      <td>4.97</td>\n",
       "      <td>Jennifer</td>\n",
       "      <td>Banks</td>\n",
       "      <td>F</td>\n",
       "      <td>561 Perry Cove</td>\n",
       "      <td>...</td>\n",
       "      <td>3495</td>\n",
       "      <td>Psychologist, counselling</td>\n",
       "      <td>1988-03-09</td>\n",
       "      <td>0b242abb623afc578575680df30655b9</td>\n",
       "      <td>1325376018</td>\n",
       "      <td>36.011293</td>\n",
       "      <td>-82.048315</td>\n",
       "      <td>0</td>\n",
       "      <td>0</td>\n",
       "      <td>1</td>\n",
       "    </tr>\n",
       "    <tr>\n",
       "      <th>1</th>\n",
       "      <td>1</td>\n",
       "      <td>2019-01-01 00:00:44</td>\n",
       "      <td>630423337322</td>\n",
       "      <td>fraud_Heller, Gutmann and Zieme</td>\n",
       "      <td>grocery_pos</td>\n",
       "      <td>107.23</td>\n",
       "      <td>Stephanie</td>\n",
       "      <td>Gill</td>\n",
       "      <td>F</td>\n",
       "      <td>43039 Riley Greens Suite 393</td>\n",
       "      <td>...</td>\n",
       "      <td>149</td>\n",
       "      <td>Special educational needs teacher</td>\n",
       "      <td>1978-06-21</td>\n",
       "      <td>1f76529f8574734946361c461b024d99</td>\n",
       "      <td>1325376044</td>\n",
       "      <td>49.159047</td>\n",
       "      <td>-118.186462</td>\n",
       "      <td>0</td>\n",
       "      <td>0</td>\n",
       "      <td>1</td>\n",
       "    </tr>\n",
       "    <tr>\n",
       "      <th>2</th>\n",
       "      <td>2</td>\n",
       "      <td>2019-01-01 00:00:51</td>\n",
       "      <td>38859492057661</td>\n",
       "      <td>fraud_Lind-Buckridge</td>\n",
       "      <td>entertainment</td>\n",
       "      <td>220.11</td>\n",
       "      <td>Edward</td>\n",
       "      <td>Sanchez</td>\n",
       "      <td>M</td>\n",
       "      <td>594 White Dale Suite 530</td>\n",
       "      <td>...</td>\n",
       "      <td>4154</td>\n",
       "      <td>Nature conservation officer</td>\n",
       "      <td>1962-01-19</td>\n",
       "      <td>a1a22d70485983eac12b5b88dad1cf95</td>\n",
       "      <td>1325376051</td>\n",
       "      <td>43.150704</td>\n",
       "      <td>-112.154481</td>\n",
       "      <td>0</td>\n",
       "      <td>0</td>\n",
       "      <td>1</td>\n",
       "    </tr>\n",
       "    <tr>\n",
       "      <th>3</th>\n",
       "      <td>3</td>\n",
       "      <td>2019-01-01 00:01:16</td>\n",
       "      <td>3534093764340240</td>\n",
       "      <td>fraud_Kutch, Hermiston and Farrell</td>\n",
       "      <td>gas_transport</td>\n",
       "      <td>45.00</td>\n",
       "      <td>Jeremy</td>\n",
       "      <td>White</td>\n",
       "      <td>M</td>\n",
       "      <td>9443 Cynthia Court Apt. 038</td>\n",
       "      <td>...</td>\n",
       "      <td>1939</td>\n",
       "      <td>Patent attorney</td>\n",
       "      <td>1967-01-12</td>\n",
       "      <td>6b849c168bdad6f867558c3793159a81</td>\n",
       "      <td>1325376076</td>\n",
       "      <td>47.034331</td>\n",
       "      <td>-112.561071</td>\n",
       "      <td>0</td>\n",
       "      <td>0</td>\n",
       "      <td>1</td>\n",
       "    </tr>\n",
       "    <tr>\n",
       "      <th>4</th>\n",
       "      <td>4</td>\n",
       "      <td>2019-01-01 00:03:06</td>\n",
       "      <td>375534208663984</td>\n",
       "      <td>fraud_Keeling-Crist</td>\n",
       "      <td>misc_pos</td>\n",
       "      <td>41.96</td>\n",
       "      <td>Tyler</td>\n",
       "      <td>Garcia</td>\n",
       "      <td>M</td>\n",
       "      <td>408 Bradley Rest</td>\n",
       "      <td>...</td>\n",
       "      <td>99</td>\n",
       "      <td>Dance movement psychotherapist</td>\n",
       "      <td>1986-03-28</td>\n",
       "      <td>a41d7549acf90789359a9aa5346dcb46</td>\n",
       "      <td>1325376186</td>\n",
       "      <td>38.674999</td>\n",
       "      <td>-78.632459</td>\n",
       "      <td>0</td>\n",
       "      <td>0</td>\n",
       "      <td>1</td>\n",
       "    </tr>\n",
       "  </tbody>\n",
       "</table>\n",
       "<p>5 rows × 25 columns</p>\n",
       "</div>"
      ],
      "text/plain": [
       "   Unnamed: 0 trans_date_trans_time            cc_num  \\\n",
       "0           0   2019-01-01 00:00:18  2703186189652095   \n",
       "1           1   2019-01-01 00:00:44      630423337322   \n",
       "2           2   2019-01-01 00:00:51    38859492057661   \n",
       "3           3   2019-01-01 00:01:16  3534093764340240   \n",
       "4           4   2019-01-01 00:03:06   375534208663984   \n",
       "\n",
       "                             merchant       category     amt      first  \\\n",
       "0          fraud_Rippin, Kub and Mann       misc_net    4.97   Jennifer   \n",
       "1     fraud_Heller, Gutmann and Zieme    grocery_pos  107.23  Stephanie   \n",
       "2                fraud_Lind-Buckridge  entertainment  220.11     Edward   \n",
       "3  fraud_Kutch, Hermiston and Farrell  gas_transport   45.00     Jeremy   \n",
       "4                 fraud_Keeling-Crist       misc_pos   41.96      Tyler   \n",
       "\n",
       "      last gender                        street  ... city_pop  \\\n",
       "0    Banks      F                561 Perry Cove  ...     3495   \n",
       "1     Gill      F  43039 Riley Greens Suite 393  ...      149   \n",
       "2  Sanchez      M      594 White Dale Suite 530  ...     4154   \n",
       "3    White      M   9443 Cynthia Court Apt. 038  ...     1939   \n",
       "4   Garcia      M              408 Bradley Rest  ...       99   \n",
       "\n",
       "                                 job         dob  \\\n",
       "0          Psychologist, counselling  1988-03-09   \n",
       "1  Special educational needs teacher  1978-06-21   \n",
       "2        Nature conservation officer  1962-01-19   \n",
       "3                    Patent attorney  1967-01-12   \n",
       "4     Dance movement psychotherapist  1986-03-28   \n",
       "\n",
       "                          trans_num   unix_time  merch_lat  merch_long  \\\n",
       "0  0b242abb623afc578575680df30655b9  1325376018  36.011293  -82.048315   \n",
       "1  1f76529f8574734946361c461b024d99  1325376044  49.159047 -118.186462   \n",
       "2  a1a22d70485983eac12b5b88dad1cf95  1325376051  43.150704 -112.154481   \n",
       "3  6b849c168bdad6f867558c3793159a81  1325376076  47.034331 -112.561071   \n",
       "4  a41d7549acf90789359a9aa5346dcb46  1325376186  38.674999  -78.632459   \n",
       "\n",
       "  is_fraud hour  month  \n",
       "0        0    0      1  \n",
       "1        0    0      1  \n",
       "2        0    0      1  \n",
       "3        0    0      1  \n",
       "4        0    0      1  \n",
       "\n",
       "[5 rows x 25 columns]"
      ]
     },
     "execution_count": 16,
     "metadata": {},
     "output_type": "execute_result"
    }
   ],
   "source": [
    "train_df.head()"
   ]
  },
  {
   "cell_type": "code",
   "execution_count": 17,
   "id": "1acaeee9",
   "metadata": {
    "scrolled": true
   },
   "outputs": [
    {
     "name": "stderr",
     "output_type": "stream",
     "text": [
      "C:\\Users\\hp\\anaconda3\\Lib\\site-packages\\seaborn\\_oldcore.py:1119: FutureWarning: use_inf_as_na option is deprecated and will be removed in a future version. Convert inf values to NaN before operating instead.\n",
      "  with pd.option_context('mode.use_inf_as_na', True):\n",
      "C:\\Users\\hp\\anaconda3\\Lib\\site-packages\\seaborn\\_oldcore.py:1119: FutureWarning: use_inf_as_na option is deprecated and will be removed in a future version. Convert inf values to NaN before operating instead.\n",
      "  with pd.option_context('mode.use_inf_as_na', True):\n"
     ]
    },
    {
     "data": {
      "text/plain": [
       "Text(0.5, 1.0, 'Fraud')"
      ]
     },
     "execution_count": 17,
     "metadata": {},
     "output_type": "execute_result"
    },
    {
     "data": {
      "image/png": "[encoded data removed]",
      "text/plain": [
       "<Figure size 1500x500 with 2 Axes>"
      ]
     },
     "metadata": {},
     "output_type": "display_data"
    }
   ],
   "source": [
    "f,(ax1, ax2)=plt.subplots(1,2,figsize=(15,5),sharey=False)\n",
    "ax1=sns.histplot(x='hour',data=train_df[train_df['is_fraud']==0],bins=24,ax=ax1,color='Green')\n",
    "ax2=sns.histplot(x='hour',data=train_df[train_df['is_fraud']==1],bins=24,ax=ax2,color='orange')\n",
    "ax1.set_title('Non Fraud')\n",
    "ax2.set_title('Fraud')"
   ]
  },
  {
   "cell_type": "markdown",
   "id": "c3f23eab",
   "metadata": {},
   "source": [
    "### It is clear that fraud transactions mainly occur at midnight.\n",
    "\n",
    "### last 2 hours of the day"
   ]
  },
  {
   "cell_type": "code",
   "execution_count": 18,
   "id": "a577aed0",
   "metadata": {},
   "outputs": [
    {
     "data": {
      "text/plain": [
       "1296675"
      ]
     },
     "execution_count": 18,
     "metadata": {},
     "output_type": "execute_result"
    }
   ],
   "source": [
    "unique_transition_count=train_df['trans_num'].nunique()\n",
    "unique_transition_count"
   ]
  },
  {
   "cell_type": "markdown",
   "id": "88bb2d2b",
   "metadata": {},
   "source": [
    "#### concluding that each transaction has it's own number"
   ]
  },
  {
   "cell_type": "code",
   "execution_count": 19,
   "id": "20c45dc9",
   "metadata": {},
   "outputs": [
    {
     "data": {
      "text/plain": [
       "Index(['Unnamed: 0', 'trans_date_trans_time', 'cc_num', 'merchant', 'category',\n",
       "       'amt', 'first', 'last', 'gender', 'street', 'city', 'state', 'zip',\n",
       "       'lat', 'long', 'city_pop', 'job', 'dob', 'trans_num', 'unix_time',\n",
       "       'merch_lat', 'merch_long', 'is_fraud', 'hour', 'month'],\n",
       "      dtype='object')"
      ]
     },
     "execution_count": 19,
     "metadata": {},
     "output_type": "execute_result"
    }
   ],
   "source": [
    "### deleting non-useful columns\n",
    "train_df.columns"
   ]
  },
  {
   "cell_type": "code",
   "execution_count": 20,
   "id": "09ccf862",
   "metadata": {},
   "outputs": [],
   "source": [
    "column_to_drop=['Unnamed: 0', 'trans_date_trans_time', 'cc_num',  'first', 'street', 'city', 'state', 'zip',\n",
    "        'dob', 'trans_num', 'unix_time' ]"
   ]
  },
  {
   "cell_type": "code",
   "execution_count": 21,
   "id": "107bcd58",
   "metadata": {},
   "outputs": [],
   "source": [
    "train_df=train_df.drop(columns=column_to_drop,axis=1)\n",
    "test_df=test_df.drop(columns=column_to_drop,axis=1)"
   ]
  },
  {
   "cell_type": "code",
   "execution_count": 22,
   "id": "60ac1e33",
   "metadata": {},
   "outputs": [
    {
     "name": "stdout",
     "output_type": "stream",
     "text": [
      "<class 'pandas.core.frame.DataFrame'>\n",
      "RangeIndex: 1296675 entries, 0 to 1296674\n",
      "Data columns (total 14 columns):\n",
      " #   Column      Non-Null Count    Dtype  \n",
      "---  ------      --------------    -----  \n",
      " 0   merchant    1296675 non-null  object \n",
      " 1   category    1296675 non-null  object \n",
      " 2   amt         1296675 non-null  float64\n",
      " 3   last        1296675 non-null  object \n",
      " 4   gender      1296675 non-null  object \n",
      " 5   lat         1296675 non-null  float64\n",
      " 6   long        1296675 non-null  float64\n",
      " 7   city_pop    1296675 non-null  int64  \n",
      " 8   job         1296675 non-null  object \n",
      " 9   merch_lat   1296675 non-null  float64\n",
      " 10  merch_long  1296675 non-null  float64\n",
      " 11  is_fraud    1296675 non-null  int64  \n",
      " 12  hour        1296675 non-null  int32  \n",
      " 13  month       1296675 non-null  int32  \n",
      "dtypes: float64(5), int32(2), int64(2), object(5)\n",
      "memory usage: 128.6+ MB\n"
     ]
    }
   ],
   "source": [
    "train_df.info()"
   ]
  },
  {
   "cell_type": "code",
   "execution_count": 23,
   "id": "32e9c6f0",
   "metadata": {},
   "outputs": [],
   "source": [
    "### cleaning merchant column\n",
    "train_df['merchant']=train_df['merchant'].apply(lambda x:x.replace('fraud_',''))\n",
    "test_df['merchant']=test_df['merchant'].apply(lambda x:x.replace('fraud_',''))"
   ]
  },
  {
   "cell_type": "code",
   "execution_count": 24,
   "id": "b2fadcc2",
   "metadata": {},
   "outputs": [
    {
     "name": "stdout",
     "output_type": "stream",
     "text": [
      "<class 'pandas.core.frame.DataFrame'>\n",
      "RangeIndex: 1296675 entries, 0 to 1296674\n",
      "Data columns (total 14 columns):\n",
      " #   Column      Non-Null Count    Dtype  \n",
      "---  ------      --------------    -----  \n",
      " 0   merchant    1296675 non-null  object \n",
      " 1   category    1296675 non-null  object \n",
      " 2   amt         1296675 non-null  float64\n",
      " 3   last        1296675 non-null  object \n",
      " 4   gender      1296675 non-null  object \n",
      " 5   lat         1296675 non-null  float64\n",
      " 6   long        1296675 non-null  float64\n",
      " 7   city_pop    1296675 non-null  int64  \n",
      " 8   job         1296675 non-null  object \n",
      " 9   merch_lat   1296675 non-null  float64\n",
      " 10  merch_long  1296675 non-null  float64\n",
      " 11  is_fraud    1296675 non-null  int64  \n",
      " 12  hour        1296675 non-null  int32  \n",
      " 13  month       1296675 non-null  int32  \n",
      "dtypes: float64(5), int32(2), int64(2), object(5)\n",
      "memory usage: 128.6+ MB\n"
     ]
    }
   ],
   "source": [
    "train_df.info()"
   ]
  },
  {
   "cell_type": "code",
   "execution_count": 25,
   "id": "70134a43",
   "metadata": {},
   "outputs": [
    {
     "data": {
      "text/html": [
       "<div>\n",
       "<style scoped>\n",
       "    .dataframe tbody tr th:only-of-type {\n",
       "        vertical-align: middle;\n",
       "    }\n",
       "\n",
       "    .dataframe tbody tr th {\n",
       "        vertical-align: top;\n",
       "    }\n",
       "\n",
       "    .dataframe thead th {\n",
       "        text-align: right;\n",
       "    }\n",
       "</style>\n",
       "<table border=\"1\" class=\"dataframe\">\n",
       "  <thead>\n",
       "    <tr style=\"text-align: right;\">\n",
       "      <th></th>\n",
       "      <th>merchant</th>\n",
       "      <th>category</th>\n",
       "      <th>amt</th>\n",
       "      <th>last</th>\n",
       "      <th>gender</th>\n",
       "      <th>lat</th>\n",
       "      <th>long</th>\n",
       "      <th>city_pop</th>\n",
       "      <th>job</th>\n",
       "      <th>merch_lat</th>\n",
       "      <th>merch_long</th>\n",
       "      <th>is_fraud</th>\n",
       "      <th>hour</th>\n",
       "      <th>month</th>\n",
       "    </tr>\n",
       "  </thead>\n",
       "  <tbody>\n",
       "    <tr>\n",
       "      <th>0</th>\n",
       "      <td>Rippin, Kub and Mann</td>\n",
       "      <td>misc_net</td>\n",
       "      <td>4.97</td>\n",
       "      <td>Banks</td>\n",
       "      <td>F</td>\n",
       "      <td>36.0788</td>\n",
       "      <td>-81.1781</td>\n",
       "      <td>3495</td>\n",
       "      <td>Psychologist, counselling</td>\n",
       "      <td>36.011293</td>\n",
       "      <td>-82.048315</td>\n",
       "      <td>0</td>\n",
       "      <td>0</td>\n",
       "      <td>1</td>\n",
       "    </tr>\n",
       "    <tr>\n",
       "      <th>1</th>\n",
       "      <td>Heller, Gutmann and Zieme</td>\n",
       "      <td>grocery_pos</td>\n",
       "      <td>107.23</td>\n",
       "      <td>Gill</td>\n",
       "      <td>F</td>\n",
       "      <td>48.8878</td>\n",
       "      <td>-118.2105</td>\n",
       "      <td>149</td>\n",
       "      <td>Special educational needs teacher</td>\n",
       "      <td>49.159047</td>\n",
       "      <td>-118.186462</td>\n",
       "      <td>0</td>\n",
       "      <td>0</td>\n",
       "      <td>1</td>\n",
       "    </tr>\n",
       "    <tr>\n",
       "      <th>2</th>\n",
       "      <td>Lind-Buckridge</td>\n",
       "      <td>entertainment</td>\n",
       "      <td>220.11</td>\n",
       "      <td>Sanchez</td>\n",
       "      <td>M</td>\n",
       "      <td>42.1808</td>\n",
       "      <td>-112.2620</td>\n",
       "      <td>4154</td>\n",
       "      <td>Nature conservation officer</td>\n",
       "      <td>43.150704</td>\n",
       "      <td>-112.154481</td>\n",
       "      <td>0</td>\n",
       "      <td>0</td>\n",
       "      <td>1</td>\n",
       "    </tr>\n",
       "    <tr>\n",
       "      <th>3</th>\n",
       "      <td>Kutch, Hermiston and Farrell</td>\n",
       "      <td>gas_transport</td>\n",
       "      <td>45.00</td>\n",
       "      <td>White</td>\n",
       "      <td>M</td>\n",
       "      <td>46.2306</td>\n",
       "      <td>-112.1138</td>\n",
       "      <td>1939</td>\n",
       "      <td>Patent attorney</td>\n",
       "      <td>47.034331</td>\n",
       "      <td>-112.561071</td>\n",
       "      <td>0</td>\n",
       "      <td>0</td>\n",
       "      <td>1</td>\n",
       "    </tr>\n",
       "    <tr>\n",
       "      <th>4</th>\n",
       "      <td>Keeling-Crist</td>\n",
       "      <td>misc_pos</td>\n",
       "      <td>41.96</td>\n",
       "      <td>Garcia</td>\n",
       "      <td>M</td>\n",
       "      <td>38.4207</td>\n",
       "      <td>-79.4629</td>\n",
       "      <td>99</td>\n",
       "      <td>Dance movement psychotherapist</td>\n",
       "      <td>38.674999</td>\n",
       "      <td>-78.632459</td>\n",
       "      <td>0</td>\n",
       "      <td>0</td>\n",
       "      <td>1</td>\n",
       "    </tr>\n",
       "  </tbody>\n",
       "</table>\n",
       "</div>"
      ],
      "text/plain": [
       "                       merchant       category     amt     last gender  \\\n",
       "0          Rippin, Kub and Mann       misc_net    4.97    Banks      F   \n",
       "1     Heller, Gutmann and Zieme    grocery_pos  107.23     Gill      F   \n",
       "2                Lind-Buckridge  entertainment  220.11  Sanchez      M   \n",
       "3  Kutch, Hermiston and Farrell  gas_transport   45.00    White      M   \n",
       "4                 Keeling-Crist       misc_pos   41.96   Garcia      M   \n",
       "\n",
       "       lat      long  city_pop                                job  merch_lat  \\\n",
       "0  36.0788  -81.1781      3495          Psychologist, counselling  36.011293   \n",
       "1  48.8878 -118.2105       149  Special educational needs teacher  49.159047   \n",
       "2  42.1808 -112.2620      4154        Nature conservation officer  43.150704   \n",
       "3  46.2306 -112.1138      1939                    Patent attorney  47.034331   \n",
       "4  38.4207  -79.4629        99     Dance movement psychotherapist  38.674999   \n",
       "\n",
       "   merch_long  is_fraud  hour  month  \n",
       "0  -82.048315         0     0      1  \n",
       "1 -118.186462         0     0      1  \n",
       "2 -112.154481         0     0      1  \n",
       "3 -112.561071         0     0      1  \n",
       "4  -78.632459         0     0      1  "
      ]
     },
     "execution_count": 25,
     "metadata": {},
     "output_type": "execute_result"
    }
   ],
   "source": [
    "train_df.head()"
   ]
  },
  {
   "cell_type": "code",
   "execution_count": 26,
   "id": "c28f8ce4",
   "metadata": {},
   "outputs": [
    {
     "data": {
      "text/html": [
       "<div>\n",
       "<style scoped>\n",
       "    .dataframe tbody tr th:only-of-type {\n",
       "        vertical-align: middle;\n",
       "    }\n",
       "\n",
       "    .dataframe tbody tr th {\n",
       "        vertical-align: top;\n",
       "    }\n",
       "\n",
       "    .dataframe thead th {\n",
       "        text-align: right;\n",
       "    }\n",
       "</style>\n",
       "<table border=\"1\" class=\"dataframe\">\n",
       "  <thead>\n",
       "    <tr style=\"text-align: right;\">\n",
       "      <th></th>\n",
       "      <th>merchant</th>\n",
       "      <th>category</th>\n",
       "      <th>last</th>\n",
       "      <th>gender</th>\n",
       "      <th>job</th>\n",
       "    </tr>\n",
       "  </thead>\n",
       "  <tbody>\n",
       "    <tr>\n",
       "      <th>count</th>\n",
       "      <td>1296675</td>\n",
       "      <td>1296675</td>\n",
       "      <td>1296675</td>\n",
       "      <td>1296675</td>\n",
       "      <td>1296675</td>\n",
       "    </tr>\n",
       "    <tr>\n",
       "      <th>unique</th>\n",
       "      <td>693</td>\n",
       "      <td>14</td>\n",
       "      <td>481</td>\n",
       "      <td>2</td>\n",
       "      <td>494</td>\n",
       "    </tr>\n",
       "    <tr>\n",
       "      <th>top</th>\n",
       "      <td>Kilback LLC</td>\n",
       "      <td>gas_transport</td>\n",
       "      <td>Smith</td>\n",
       "      <td>F</td>\n",
       "      <td>Film/video editor</td>\n",
       "    </tr>\n",
       "    <tr>\n",
       "      <th>freq</th>\n",
       "      <td>4403</td>\n",
       "      <td>131659</td>\n",
       "      <td>28794</td>\n",
       "      <td>709863</td>\n",
       "      <td>9779</td>\n",
       "    </tr>\n",
       "  </tbody>\n",
       "</table>\n",
       "</div>"
      ],
      "text/plain": [
       "           merchant       category     last   gender                job\n",
       "count       1296675        1296675  1296675  1296675            1296675\n",
       "unique          693             14      481        2                494\n",
       "top     Kilback LLC  gas_transport    Smith        F  Film/video editor\n",
       "freq           4403         131659    28794   709863               9779"
      ]
     },
     "execution_count": 26,
     "metadata": {},
     "output_type": "execute_result"
    }
   ],
   "source": [
    "train_df.describe(include='object')"
   ]
  },
  {
   "cell_type": "code",
   "execution_count": 27,
   "id": "e68e211a",
   "metadata": {},
   "outputs": [],
   "source": [
    "### applying label encoding\n",
    "train_df['gender']=train_df['gender'].map({'F':0,'M':1})\n",
    "test_df['gender']=test_df['gender'].map({'F':0,'M':1})"
   ]
  },
  {
   "cell_type": "code",
   "execution_count": 28,
   "id": "40c4ab96",
   "metadata": {},
   "outputs": [],
   "source": [
    "from category_encoders import WOEEncoder"
   ]
  },
  {
   "cell_type": "code",
   "execution_count": 29,
   "id": "fda7d490",
   "metadata": {},
   "outputs": [],
   "source": [
    "encoder=WOEEncoder()"
   ]
  },
  {
   "cell_type": "code",
   "execution_count": 30,
   "id": "12c11c5e",
   "metadata": {},
   "outputs": [],
   "source": [
    "### applying WOEEncoder\n",
    "for col in['merchant','category','job','last']:\n",
    "    train_df[col]=encoder.fit_transform(train_df[col],train_df['is_fraud'])"
   ]
  },
  {
   "cell_type": "code",
   "execution_count": 31,
   "id": "cb329b71",
   "metadata": {},
   "outputs": [],
   "source": [
    "for col in['merchant','category','job','last']:\n",
    "    test_df[col]=encoder.fit_transform(test_df[col],test_df['is_fraud'])"
   ]
  },
  {
   "cell_type": "code",
   "execution_count": 32,
   "id": "c311d9cd",
   "metadata": {},
   "outputs": [
    {
     "data": {
      "text/html": [
       "<div>\n",
       "<style scoped>\n",
       "    .dataframe tbody tr th:only-of-type {\n",
       "        vertical-align: middle;\n",
       "    }\n",
       "\n",
       "    .dataframe tbody tr th {\n",
       "        vertical-align: top;\n",
       "    }\n",
       "\n",
       "    .dataframe thead th {\n",
       "        text-align: right;\n",
       "    }\n",
       "</style>\n",
       "<table border=\"1\" class=\"dataframe\">\n",
       "  <thead>\n",
       "    <tr style=\"text-align: right;\">\n",
       "      <th></th>\n",
       "      <th>merchant</th>\n",
       "      <th>category</th>\n",
       "      <th>amt</th>\n",
       "      <th>last</th>\n",
       "      <th>gender</th>\n",
       "      <th>lat</th>\n",
       "      <th>long</th>\n",
       "      <th>city_pop</th>\n",
       "      <th>job</th>\n",
       "      <th>merch_lat</th>\n",
       "      <th>merch_long</th>\n",
       "      <th>is_fraud</th>\n",
       "      <th>hour</th>\n",
       "      <th>month</th>\n",
       "    </tr>\n",
       "  </thead>\n",
       "  <tbody>\n",
       "    <tr>\n",
       "      <th>0</th>\n",
       "      <td>0.959326</td>\n",
       "      <td>0.924914</td>\n",
       "      <td>4.97</td>\n",
       "      <td>-2.469513</td>\n",
       "      <td>0</td>\n",
       "      <td>36.0788</td>\n",
       "      <td>-81.1781</td>\n",
       "      <td>3495</td>\n",
       "      <td>-1.080186</td>\n",
       "      <td>36.011293</td>\n",
       "      <td>-82.048315</td>\n",
       "      <td>0</td>\n",
       "      <td>0</td>\n",
       "      <td>1</td>\n",
       "    </tr>\n",
       "    <tr>\n",
       "      <th>1</th>\n",
       "      <td>0.663187</td>\n",
       "      <td>0.898799</td>\n",
       "      <td>107.23</td>\n",
       "      <td>-0.673638</td>\n",
       "      <td>0</td>\n",
       "      <td>48.8878</td>\n",
       "      <td>-118.2105</td>\n",
       "      <td>149</td>\n",
       "      <td>-0.904144</td>\n",
       "      <td>49.159047</td>\n",
       "      <td>-118.186462</td>\n",
       "      <td>0</td>\n",
       "      <td>0</td>\n",
       "      <td>1</td>\n",
       "    </tr>\n",
       "    <tr>\n",
       "      <th>2</th>\n",
       "      <td>-0.790166</td>\n",
       "      <td>-0.847622</td>\n",
       "      <td>220.11</td>\n",
       "      <td>0.433257</td>\n",
       "      <td>1</td>\n",
       "      <td>42.1808</td>\n",
       "      <td>-112.2620</td>\n",
       "      <td>4154</td>\n",
       "      <td>1.120434</td>\n",
       "      <td>43.150704</td>\n",
       "      <td>-112.154481</td>\n",
       "      <td>0</td>\n",
       "      <td>0</td>\n",
       "      <td>1</td>\n",
       "    </tr>\n",
       "  </tbody>\n",
       "</table>\n",
       "</div>"
      ],
      "text/plain": [
       "   merchant  category     amt      last  gender      lat      long  city_pop  \\\n",
       "0  0.959326  0.924914    4.97 -2.469513       0  36.0788  -81.1781      3495   \n",
       "1  0.663187  0.898799  107.23 -0.673638       0  48.8878 -118.2105       149   \n",
       "2 -0.790166 -0.847622  220.11  0.433257       1  42.1808 -112.2620      4154   \n",
       "\n",
       "        job  merch_lat  merch_long  is_fraud  hour  month  \n",
       "0 -1.080186  36.011293  -82.048315         0     0      1  \n",
       "1 -0.904144  49.159047 -118.186462         0     0      1  \n",
       "2  1.120434  43.150704 -112.154481         0     0      1  "
      ]
     },
     "execution_count": 32,
     "metadata": {},
     "output_type": "execute_result"
    }
   ],
   "source": [
    "train_df.head(3)"
   ]
  },
  {
   "cell_type": "code",
   "execution_count": 33,
   "id": "0c198af8",
   "metadata": {},
   "outputs": [],
   "source": [
    "#### down sampling and scaling"
   ]
  },
  {
   "cell_type": "code",
   "execution_count": 34,
   "id": "fb2b8d9d",
   "metadata": {},
   "outputs": [],
   "source": [
    "No_class=train_df[train_df['is_fraud']==0]\n",
    "Yes_class=train_df[train_df['is_fraud']==1]"
   ]
  },
  {
   "cell_type": "code",
   "execution_count": 35,
   "id": "dc5403c8",
   "metadata": {},
   "outputs": [],
   "source": [
    "\n",
    "from sklearn.utils import resample"
   ]
  },
  {
   "cell_type": "code",
   "execution_count": 36,
   "id": "64f8570c",
   "metadata": {},
   "outputs": [
    {
     "data": {
      "text/plain": [
       "(1289169, 14)"
      ]
     },
     "execution_count": 36,
     "metadata": {},
     "output_type": "execute_result"
    }
   ],
   "source": [
    "No_class.shape"
   ]
  },
  {
   "cell_type": "code",
   "execution_count": 37,
   "id": "3bc0a6a1",
   "metadata": {},
   "outputs": [
    {
     "data": {
      "text/plain": [
       "(7506, 14)"
      ]
     },
     "execution_count": 37,
     "metadata": {},
     "output_type": "execute_result"
    }
   ],
   "source": [
    "Yes_class.shape"
   ]
  },
  {
   "cell_type": "code",
   "execution_count": 38,
   "id": "53e9a325",
   "metadata": {},
   "outputs": [],
   "source": [
    "No_class=resample(No_class,replace=False,n_samples=len(Yes_class))\n",
    "down_sample=pd.concat([Yes_class,No_class],axis=0)"
   ]
  },
  {
   "cell_type": "code",
   "execution_count": 39,
   "id": "35d09b51",
   "metadata": {},
   "outputs": [],
   "source": [
    "X=down_sample.drop('is_fraud',axis=1)\n",
    "y=down_sample['is_fraud']"
   ]
  },
  {
   "cell_type": "code",
   "execution_count": 40,
   "id": "339d31c2",
   "metadata": {},
   "outputs": [],
   "source": [
    "from sklearn.model_selection import train_test_split"
   ]
  },
  {
   "cell_type": "code",
   "execution_count": 41,
   "id": "50bf36a6",
   "metadata": {},
   "outputs": [],
   "source": [
    "X_train,X_test,y_train,y_test=train_test_split(X,y,train_size=0.80,)"
   ]
  },
  {
   "cell_type": "code",
   "execution_count": 42,
   "id": "cb1ba4ff",
   "metadata": {},
   "outputs": [],
   "source": [
    "from sklearn.preprocessing import StandardScaler"
   ]
  },
  {
   "cell_type": "code",
   "execution_count": 43,
   "id": "467a296c",
   "metadata": {},
   "outputs": [],
   "source": [
    "scalar=StandardScaler()"
   ]
  },
  {
   "cell_type": "code",
   "execution_count": 44,
   "id": "51a75e45",
   "metadata": {},
   "outputs": [],
   "source": [
    "X_train=scalar.fit_transform(X_train)\n",
    "X_test=scalar.fit_transform(X_test)"
   ]
  },
  {
   "cell_type": "code",
   "execution_count": 45,
   "id": "3965f195",
   "metadata": {},
   "outputs": [
    {
     "data": {
      "text/plain": [
       "is_fraud\n",
       "0    1289169\n",
       "1       7506\n",
       "Name: count, dtype: int64"
      ]
     },
     "execution_count": 45,
     "metadata": {},
     "output_type": "execute_result"
    }
   ],
   "source": [
    "#### original class count\n",
    "original_class_count=train_df['is_fraud'].value_counts()\n",
    "original_class_count"
   ]
  },
  {
   "cell_type": "code",
   "execution_count": 46,
   "id": "7878e7fc",
   "metadata": {},
   "outputs": [
    {
     "data": {
      "text/plain": [
       "is_fraud\n",
       "0    99.421135\n",
       "1     0.578865\n",
       "Name: count, dtype: float64"
      ]
     },
     "execution_count": 46,
     "metadata": {},
     "output_type": "execute_result"
    }
   ],
   "source": [
    "#### percentage of count\n",
    "original_percent=original_class_count/len(train_df)*100\n",
    "original_percent"
   ]
  },
  {
   "cell_type": "code",
   "execution_count": 47,
   "id": "a5788176",
   "metadata": {},
   "outputs": [
    {
     "data": {
      "text/plain": [
       "<BarContainer object of 2 artists>"
      ]
     },
     "execution_count": 47,
     "metadata": {},
     "output_type": "execute_result"
    },
    {
     "data": {
      "image/png": "[encoded data removed]",
      "text/plain": [
       "<Figure size 640x480 with 1 Axes>"
      ]
     },
     "metadata": {},
     "output_type": "display_data"
    }
   ],
   "source": [
    "plt.bar(original_class_count.index,original_class_count.values,color=['orange','Green'])"
   ]
  },
  {
   "cell_type": "code",
   "execution_count": 48,
   "id": "8e2d4749",
   "metadata": {},
   "outputs": [
    {
     "data": {
      "text/plain": [
       "is_fraud\n",
       "1    7506\n",
       "0    7506\n",
       "Name: count, dtype: int64"
      ]
     },
     "execution_count": 48,
     "metadata": {},
     "output_type": "execute_result"
    }
   ],
   "source": [
    "### after down_sampling count\n",
    "down_sample_class_count=down_sample['is_fraud'].value_counts()\n",
    "down_sample_class_count"
   ]
  },
  {
   "cell_type": "code",
   "execution_count": 49,
   "id": "f0d91a87",
   "metadata": {},
   "outputs": [
    {
     "data": {
      "text/plain": [
       "is_fraud\n",
       "1    50.0\n",
       "0    50.0\n",
       "Name: count, dtype: float64"
      ]
     },
     "execution_count": 49,
     "metadata": {},
     "output_type": "execute_result"
    }
   ],
   "source": [
    "#### percentage of count\n",
    "down_sample_percent=down_sample_class_count/len(down_sample)*100\n",
    "down_sample_percent"
   ]
  },
  {
   "cell_type": "code",
   "execution_count": 50,
   "id": "9994fa78",
   "metadata": {},
   "outputs": [
    {
     "data": {
      "text/plain": [
       "<BarContainer object of 2 artists>"
      ]
     },
     "execution_count": 50,
     "metadata": {},
     "output_type": "execute_result"
    },
    {
     "data": {
      "image/png": "[encoded data removed]",
      "text/plain": [
       "<Figure size 640x480 with 1 Axes>"
      ]
     },
     "metadata": {},
     "output_type": "display_data"
    }
   ],
   "source": [
    "plt.bar(down_sample_class_count.index,down_sample_class_count.values,color=['Orange','Green'])"
   ]
  },
  {
   "cell_type": "code",
   "execution_count": 51,
   "id": "cbda1657",
   "metadata": {},
   "outputs": [],
   "source": [
    "def logestic_regression():\n",
    "    model=LogisticRegression()\n",
    "    model_train=model.fit(X_train,y_train)\n",
    "    pred=model.predict(X_test)\n",
    "    return pred"
   ]
  },
  {
   "cell_type": "code",
   "execution_count": 52,
   "id": "6a306cf2",
   "metadata": {},
   "outputs": [],
   "source": [
    "log_pred=logestic_regression()"
   ]
  },
  {
   "cell_type": "code",
   "execution_count": 53,
   "id": "51c8ce4c",
   "metadata": {},
   "outputs": [
    {
     "data": {
      "text/plain": [
       "array([[1372,  105],\n",
       "       [ 317, 1209]], dtype=int64)"
      ]
     },
     "execution_count": 53,
     "metadata": {},
     "output_type": "execute_result"
    }
   ],
   "source": [
    "cf_LR=confusion_matrix(y_test,log_pred)\n",
    "cf_LR"
   ]
  },
  {
   "cell_type": "code",
   "execution_count": 54,
   "id": "49693cb8",
   "metadata": {},
   "outputs": [
    {
     "data": {
      "text/plain": [
       "0.8594738594738595"
      ]
     },
     "execution_count": 54,
     "metadata": {},
     "output_type": "execute_result"
    }
   ],
   "source": [
    "lr_accuracy=accuracy_score(y_test,log_pred)\n",
    "lr_accuracy"
   ]
  },
  {
   "cell_type": "code",
   "execution_count": 55,
   "id": "3895a45f",
   "metadata": {},
   "outputs": [],
   "source": [
    "def random_forest(X,y):\n",
    "    model=RandomForestClassifier(criterion='entropy',)\n",
    "    model_train=model.fit(X_train,y_train)\n",
    "    pred=model_train.predict(X_test)\n",
    "    return pred\n",
    "    "
   ]
  },
  {
   "cell_type": "code",
   "execution_count": 56,
   "id": "79771b2e",
   "metadata": {},
   "outputs": [],
   "source": [
    "def decision_tree(X,y):\n",
    "    model=DecisionTreeClassifier(criterion='entropy')\n",
    "    model_train=model.fit(X_train,y_train)\n",
    "    pred=model_train.predict(X_test)\n",
    "    return pred"
   ]
  },
  {
   "cell_type": "code",
   "execution_count": 57,
   "id": "e91f26b3",
   "metadata": {},
   "outputs": [],
   "source": [
    "rm_pred=random_forest(X,y)"
   ]
  },
  {
   "cell_type": "code",
   "execution_count": 58,
   "id": "2a24fed1",
   "metadata": {},
   "outputs": [
    {
     "data": {
      "text/plain": [
       "array([[1432,   45],\n",
       "       [ 192, 1334]], dtype=int64)"
      ]
     },
     "execution_count": 58,
     "metadata": {},
     "output_type": "execute_result"
    }
   ],
   "source": [
    "cf_rm=confusion_matrix(y_test,rm_pred)\n",
    "cf_rm"
   ]
  },
  {
   "cell_type": "code",
   "execution_count": 59,
   "id": "40d752fe",
   "metadata": {},
   "outputs": [
    {
     "data": {
      "text/plain": [
       "0.9210789210789211"
      ]
     },
     "execution_count": 59,
     "metadata": {},
     "output_type": "execute_result"
    }
   ],
   "source": [
    "rf_accuracy=accuracy_score(y_test,rm_pred)\n",
    "rf_accuracy"
   ]
  },
  {
   "cell_type": "code",
   "execution_count": 60,
   "id": "98c8cabe",
   "metadata": {},
   "outputs": [],
   "source": [
    "dc_pred=decision_tree(X,y)"
   ]
  },
  {
   "cell_type": "code",
   "execution_count": 61,
   "id": "fbf8e7d2",
   "metadata": {},
   "outputs": [
    {
     "data": {
      "text/plain": [
       "array([[1424,   53],\n",
       "       [ 210, 1316]], dtype=int64)"
      ]
     },
     "execution_count": 61,
     "metadata": {},
     "output_type": "execute_result"
    }
   ],
   "source": [
    "cf_dc=confusion_matrix(y_test,dc_pred)\n",
    "cf_dc"
   ]
  },
  {
   "cell_type": "code",
   "execution_count": 62,
   "id": "df9f52c2",
   "metadata": {},
   "outputs": [
    {
     "data": {
      "text/plain": [
       "0.9124209124209124"
      ]
     },
     "execution_count": 62,
     "metadata": {},
     "output_type": "execute_result"
    }
   ],
   "source": [
    "dt_accuracy=accuracy_score(y_test,dc_pred)\n",
    "dt_accuracy"
   ]
  },
  {
   "cell_type": "code",
   "execution_count": 63,
   "id": "3db8803e",
   "metadata": {},
   "outputs": [],
   "source": [
    "Algorithms=['Logestic Regression',\"Random Forest\",'Decision Tree']\n",
    "Accuracy=[lr_accuracy,rf_accuracy,dt_accuracy]"
   ]
  },
  {
   "cell_type": "code",
   "execution_count": 64,
   "id": "49e17bf2",
   "metadata": {},
   "outputs": [],
   "source": [
    "Final_result=pd.DataFrame({'Algorithms':Algorithms,'Accuracy':Accuracy})"
   ]
  },
  {
   "cell_type": "code",
   "execution_count": 65,
   "id": "6b98be11",
   "metadata": {},
   "outputs": [
    {
     "data": {
      "text/html": [
       "<div>\n",
       "<style scoped>\n",
       "    .dataframe tbody tr th:only-of-type {\n",
       "        vertical-align: middle;\n",
       "    }\n",
       "\n",
       "    .dataframe tbody tr th {\n",
       "        vertical-align: top;\n",
       "    }\n",
       "\n",
       "    .dataframe thead th {\n",
       "        text-align: right;\n",
       "    }\n",
       "</style>\n",
       "<table border=\"1\" class=\"dataframe\">\n",
       "  <thead>\n",
       "    <tr style=\"text-align: right;\">\n",
       "      <th></th>\n",
       "      <th>Algorithms</th>\n",
       "      <th>Accuracy</th>\n",
       "    </tr>\n",
       "  </thead>\n",
       "  <tbody>\n",
       "    <tr>\n",
       "      <th>0</th>\n",
       "      <td>Logestic Regression</td>\n",
       "      <td>0.859474</td>\n",
       "    </tr>\n",
       "    <tr>\n",
       "      <th>1</th>\n",
       "      <td>Random Forest</td>\n",
       "      <td>0.921079</td>\n",
       "    </tr>\n",
       "    <tr>\n",
       "      <th>2</th>\n",
       "      <td>Decision Tree</td>\n",
       "      <td>0.912421</td>\n",
       "    </tr>\n",
       "  </tbody>\n",
       "</table>\n",
       "</div>"
      ],
      "text/plain": [
       "            Algorithms  Accuracy\n",
       "0  Logestic Regression  0.859474\n",
       "1        Random Forest  0.921079\n",
       "2        Decision Tree  0.912421"
      ]
     },
     "execution_count": 65,
     "metadata": {},
     "output_type": "execute_result"
    }
   ],
   "source": [
    "Final_result"
   ]
  },
  {
   "cell_type": "code",
   "execution_count": null,
   "id": "e7629154",
   "metadata": {},
   "outputs": [],
   "source": []
  }
 ],
 "metadata": {
  "kernelspec": {
   "display_name": "Python 3 (ipykernel)",
   "language": "python",
   "name": "python3"
  },
  "language_info": {
   "codemirror_mode": {
    "name": "ipython",
    "version": 3
   },
   "file_extension": ".py",
   "mimetype": "text/x-python",
   "name": "python",
   "nbconvert_exporter": "python",
   "pygments_lexer": "ipython3",
   "version": "3.11.7"
  }
 },
 "nbformat": 4,
 "nbformat_minor": 5
}
