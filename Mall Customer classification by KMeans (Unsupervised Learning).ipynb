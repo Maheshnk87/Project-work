{
 "cells": [
  {
   "cell_type": "code",
   "execution_count": 1,
   "id": "10f60f4c",
   "metadata": {},
   "outputs": [],
   "source": [
    "#### Mall customer survey\n",
    "import pandas as pd\n",
    "import seaborn as sns\n",
    "import time\n",
    "from sklearn.cluster import KMeans\n",
    "import matplotlib.pyplot as plt\n",
    "from sklearn.preprocessing import StandardScaler"
   ]
  },
  {
   "cell_type": "code",
   "execution_count": 2,
   "id": "6bd2ced6",
   "metadata": {},
   "outputs": [],
   "source": [
    "data=pd.read_csv('C:/Data Science/6 aug/Mall_Customers_Survey.csv')"
   ]
  },
  {
   "cell_type": "code",
   "execution_count": 3,
   "id": "fac7328a",
   "metadata": {},
   "outputs": [
    {
     "data": {
      "text/html": [
       "<div>\n",
       "<style scoped>\n",
       "    .dataframe tbody tr th:only-of-type {\n",
       "        vertical-align: middle;\n",
       "    }\n",
       "\n",
       "    .dataframe tbody tr th {\n",
       "        vertical-align: top;\n",
       "    }\n",
       "\n",
       "    .dataframe thead th {\n",
       "        text-align: right;\n",
       "    }\n",
       "</style>\n",
       "<table border=\"1\" class=\"dataframe\">\n",
       "  <thead>\n",
       "    <tr style=\"text-align: right;\">\n",
       "      <th></th>\n",
       "      <th>CustomerID</th>\n",
       "      <th>Genre</th>\n",
       "      <th>Age</th>\n",
       "      <th>Annual Income (k$)</th>\n",
       "      <th>Spending Score (1-100)</th>\n",
       "    </tr>\n",
       "  </thead>\n",
       "  <tbody>\n",
       "    <tr>\n",
       "      <th>0</th>\n",
       "      <td>1</td>\n",
       "      <td>Male</td>\n",
       "      <td>19</td>\n",
       "      <td>15</td>\n",
       "      <td>39</td>\n",
       "    </tr>\n",
       "    <tr>\n",
       "      <th>1</th>\n",
       "      <td>2</td>\n",
       "      <td>Male</td>\n",
       "      <td>21</td>\n",
       "      <td>15</td>\n",
       "      <td>81</td>\n",
       "    </tr>\n",
       "    <tr>\n",
       "      <th>2</th>\n",
       "      <td>3</td>\n",
       "      <td>Female</td>\n",
       "      <td>20</td>\n",
       "      <td>16</td>\n",
       "      <td>6</td>\n",
       "    </tr>\n",
       "  </tbody>\n",
       "</table>\n",
       "</div>"
      ],
      "text/plain": [
       "   CustomerID   Genre  Age  Annual Income (k$)  Spending Score (1-100)\n",
       "0           1    Male   19                  15                      39\n",
       "1           2    Male   21                  15                      81\n",
       "2           3  Female   20                  16                       6"
      ]
     },
     "execution_count": 3,
     "metadata": {},
     "output_type": "execute_result"
    }
   ],
   "source": [
    "data.head(3)"
   ]
  },
  {
   "cell_type": "code",
   "execution_count": 4,
   "id": "69e59783",
   "metadata": {},
   "outputs": [
    {
     "data": {
      "text/plain": [
       "(200, 5)"
      ]
     },
     "execution_count": 4,
     "metadata": {},
     "output_type": "execute_result"
    }
   ],
   "source": [
    "data.shape"
   ]
  },
  {
   "cell_type": "code",
   "execution_count": 5,
   "id": "ac930f2e",
   "metadata": {},
   "outputs": [
    {
     "data": {
      "text/html": [
       "<div>\n",
       "<style scoped>\n",
       "    .dataframe tbody tr th:only-of-type {\n",
       "        vertical-align: middle;\n",
       "    }\n",
       "\n",
       "    .dataframe tbody tr th {\n",
       "        vertical-align: top;\n",
       "    }\n",
       "\n",
       "    .dataframe thead th {\n",
       "        text-align: right;\n",
       "    }\n",
       "</style>\n",
       "<table border=\"1\" class=\"dataframe\">\n",
       "  <thead>\n",
       "    <tr style=\"text-align: right;\">\n",
       "      <th></th>\n",
       "      <th>Age</th>\n",
       "      <th>Annual Income (k$)</th>\n",
       "    </tr>\n",
       "  </thead>\n",
       "  <tbody>\n",
       "    <tr>\n",
       "      <th>0</th>\n",
       "      <td>19</td>\n",
       "      <td>15</td>\n",
       "    </tr>\n",
       "    <tr>\n",
       "      <th>1</th>\n",
       "      <td>21</td>\n",
       "      <td>15</td>\n",
       "    </tr>\n",
       "    <tr>\n",
       "      <th>2</th>\n",
       "      <td>20</td>\n",
       "      <td>16</td>\n",
       "    </tr>\n",
       "    <tr>\n",
       "      <th>3</th>\n",
       "      <td>23</td>\n",
       "      <td>16</td>\n",
       "    </tr>\n",
       "    <tr>\n",
       "      <th>4</th>\n",
       "      <td>31</td>\n",
       "      <td>17</td>\n",
       "    </tr>\n",
       "    <tr>\n",
       "      <th>...</th>\n",
       "      <td>...</td>\n",
       "      <td>...</td>\n",
       "    </tr>\n",
       "    <tr>\n",
       "      <th>195</th>\n",
       "      <td>35</td>\n",
       "      <td>120</td>\n",
       "    </tr>\n",
       "    <tr>\n",
       "      <th>196</th>\n",
       "      <td>45</td>\n",
       "      <td>126</td>\n",
       "    </tr>\n",
       "    <tr>\n",
       "      <th>197</th>\n",
       "      <td>32</td>\n",
       "      <td>126</td>\n",
       "    </tr>\n",
       "    <tr>\n",
       "      <th>198</th>\n",
       "      <td>32</td>\n",
       "      <td>137</td>\n",
       "    </tr>\n",
       "    <tr>\n",
       "      <th>199</th>\n",
       "      <td>30</td>\n",
       "      <td>137</td>\n",
       "    </tr>\n",
       "  </tbody>\n",
       "</table>\n",
       "<p>200 rows × 2 columns</p>\n",
       "</div>"
      ],
      "text/plain": [
       "     Age  Annual Income (k$)\n",
       "0     19                  15\n",
       "1     21                  15\n",
       "2     20                  16\n",
       "3     23                  16\n",
       "4     31                  17\n",
       "..   ...                 ...\n",
       "195   35                 120\n",
       "196   45                 126\n",
       "197   32                 126\n",
       "198   32                 137\n",
       "199   30                 137\n",
       "\n",
       "[200 rows x 2 columns]"
      ]
     },
     "execution_count": 5,
     "metadata": {},
     "output_type": "execute_result"
    }
   ],
   "source": [
    "X=data[['Age','Annual Income (k$)']]\n",
    "X"
   ]
  },
  {
   "cell_type": "code",
   "execution_count": 6,
   "id": "675efd3e",
   "metadata": {},
   "outputs": [],
   "source": [
    "scale=StandardScaler()"
   ]
  },
  {
   "cell_type": "code",
   "execution_count": 7,
   "id": "b584222f",
   "metadata": {},
   "outputs": [],
   "source": [
    "X_scaled=scale.fit_transform(X)"
   ]
  },
  {
   "cell_type": "code",
   "execution_count": 8,
   "id": "6ee5fd52",
   "metadata": {
    "collapsed": true
   },
   "outputs": [
    {
     "data": {
      "text/plain": [
       "array([[-1.42456879, -1.73899919],\n",
       "       [-1.28103541, -1.73899919],\n",
       "       [-1.3528021 , -1.70082976],\n",
       "       [-1.13750203, -1.70082976],\n",
       "       [-0.56336851, -1.66266033],\n",
       "       [-1.20926872, -1.66266033],\n",
       "       [-0.27630176, -1.62449091],\n",
       "       [-1.13750203, -1.62449091],\n",
       "       [ 1.80493225, -1.58632148],\n",
       "       [-0.6351352 , -1.58632148],\n",
       "       [ 2.02023231, -1.58632148],\n",
       "       [-0.27630176, -1.58632148],\n",
       "       [ 1.37433211, -1.54815205],\n",
       "       [-1.06573534, -1.54815205],\n",
       "       [-0.13276838, -1.54815205],\n",
       "       [-1.20926872, -1.54815205],\n",
       "       [-0.27630176, -1.50998262],\n",
       "       [-1.3528021 , -1.50998262],\n",
       "       [ 0.94373197, -1.43364376],\n",
       "       [-0.27630176, -1.43364376],\n",
       "       [-0.27630176, -1.39547433],\n",
       "       [-0.99396865, -1.39547433],\n",
       "       [ 0.51313183, -1.3573049 ],\n",
       "       [-0.56336851, -1.3573049 ],\n",
       "       [ 1.08726535, -1.24279661],\n",
       "       [-0.70690189, -1.24279661],\n",
       "       [ 0.44136514, -1.24279661],\n",
       "       [-0.27630176, -1.24279661],\n",
       "       [ 0.08253169, -1.20462718],\n",
       "       [-1.13750203, -1.20462718],\n",
       "       [ 1.51786549, -1.16645776],\n",
       "       [-1.28103541, -1.16645776],\n",
       "       [ 1.01549866, -1.05194947],\n",
       "       [-1.49633548, -1.05194947],\n",
       "       [ 0.7284319 , -1.05194947],\n",
       "       [-1.28103541, -1.05194947],\n",
       "       [ 0.22606507, -1.01378004],\n",
       "       [-0.6351352 , -1.01378004],\n",
       "       [-0.20453507, -0.89927175],\n",
       "       [-1.3528021 , -0.89927175],\n",
       "       [ 1.87669894, -0.86110232],\n",
       "       [-1.06573534, -0.86110232],\n",
       "       [ 0.65666521, -0.82293289],\n",
       "       [-0.56336851, -0.82293289],\n",
       "       [ 0.7284319 , -0.82293289],\n",
       "       [-1.06573534, -0.82293289],\n",
       "       [ 0.80019859, -0.78476346],\n",
       "       [-0.85043527, -0.78476346],\n",
       "       [-0.70690189, -0.78476346],\n",
       "       [-0.56336851, -0.78476346],\n",
       "       [ 0.7284319 , -0.70842461],\n",
       "       [-0.41983513, -0.70842461],\n",
       "       [-0.56336851, -0.67025518],\n",
       "       [ 1.4460988 , -0.67025518],\n",
       "       [ 0.80019859, -0.67025518],\n",
       "       [ 0.58489852, -0.67025518],\n",
       "       [ 0.87196528, -0.63208575],\n",
       "       [ 2.16376569, -0.63208575],\n",
       "       [-0.85043527, -0.55574689],\n",
       "       [ 1.01549866, -0.55574689],\n",
       "       [ 2.23553238, -0.55574689],\n",
       "       [-1.42456879, -0.55574689],\n",
       "       [ 2.02023231, -0.51757746],\n",
       "       [ 1.08726535, -0.51757746],\n",
       "       [ 1.73316556, -0.47940803],\n",
       "       [-1.49633548, -0.47940803],\n",
       "       [ 0.29783176, -0.47940803],\n",
       "       [ 2.091999  , -0.47940803],\n",
       "       [-1.42456879, -0.47940803],\n",
       "       [-0.49160182, -0.47940803],\n",
       "       [ 2.23553238, -0.4412386 ],\n",
       "       [ 0.58489852, -0.4412386 ],\n",
       "       [ 1.51786549, -0.40306917],\n",
       "       [ 1.51786549, -0.40306917],\n",
       "       [ 1.4460988 , -0.25039146],\n",
       "       [-0.92220196, -0.25039146],\n",
       "       [ 0.44136514, -0.25039146],\n",
       "       [ 0.08253169, -0.25039146],\n",
       "       [-1.13750203, -0.25039146],\n",
       "       [ 0.7284319 , -0.25039146],\n",
       "       [ 1.30256542, -0.25039146],\n",
       "       [-0.06100169, -0.25039146],\n",
       "       [ 2.02023231, -0.25039146],\n",
       "       [ 0.51313183, -0.25039146],\n",
       "       [-1.28103541, -0.25039146],\n",
       "       [ 0.65666521, -0.25039146],\n",
       "       [ 1.15903204, -0.13588317],\n",
       "       [-1.20926872, -0.13588317],\n",
       "       [-0.34806844, -0.09771374],\n",
       "       [ 0.80019859, -0.09771374],\n",
       "       [ 2.091999  , -0.05954431],\n",
       "       [-1.49633548, -0.05954431],\n",
       "       [ 0.65666521, -0.02137488],\n",
       "       [ 0.08253169, -0.02137488],\n",
       "       [-0.49160182, -0.02137488],\n",
       "       [-1.06573534, -0.02137488],\n",
       "       [ 0.58489852, -0.02137488],\n",
       "       [-0.85043527, -0.02137488],\n",
       "       [ 0.65666521,  0.01679455],\n",
       "       [-1.3528021 ,  0.01679455],\n",
       "       [-1.13750203,  0.05496398],\n",
       "       [ 0.7284319 ,  0.05496398],\n",
       "       [ 2.02023231,  0.05496398],\n",
       "       [-0.92220196,  0.05496398],\n",
       "       [ 0.7284319 ,  0.05496398],\n",
       "       [-1.28103541,  0.05496398],\n",
       "       [ 1.94846562,  0.09313341],\n",
       "       [ 1.08726535,  0.09313341],\n",
       "       [ 2.091999  ,  0.09313341],\n",
       "       [ 1.94846562,  0.09313341],\n",
       "       [ 1.87669894,  0.09313341],\n",
       "       [-1.42456879,  0.09313341],\n",
       "       [-0.06100169,  0.13130284],\n",
       "       [-1.42456879,  0.13130284],\n",
       "       [-1.49633548,  0.16947227],\n",
       "       [-1.42456879,  0.16947227],\n",
       "       [ 1.73316556,  0.16947227],\n",
       "       [ 0.7284319 ,  0.16947227],\n",
       "       [ 0.87196528,  0.24581112],\n",
       "       [ 0.80019859,  0.24581112],\n",
       "       [-0.85043527,  0.24581112],\n",
       "       [-0.06100169,  0.24581112],\n",
       "       [ 0.08253169,  0.32214998],\n",
       "       [ 0.010765  ,  0.32214998],\n",
       "       [-1.13750203,  0.36031941],\n",
       "       [-0.56336851,  0.36031941],\n",
       "       [ 0.29783176,  0.39848884],\n",
       "       [ 0.08253169,  0.39848884],\n",
       "       [ 1.4460988 ,  0.39848884],\n",
       "       [-0.06100169,  0.39848884],\n",
       "       [ 0.58489852,  0.39848884],\n",
       "       [ 0.010765  ,  0.39848884],\n",
       "       [-0.99396865,  0.43665827],\n",
       "       [-0.56336851,  0.43665827],\n",
       "       [-1.3528021 ,  0.4748277 ],\n",
       "       [-0.70690189,  0.4748277 ],\n",
       "       [ 0.36959845,  0.4748277 ],\n",
       "       [-0.49160182,  0.4748277 ],\n",
       "       [-1.42456879,  0.51299713],\n",
       "       [-0.27630176,  0.51299713],\n",
       "       [ 1.30256542,  0.55116656],\n",
       "       [-0.49160182,  0.55116656],\n",
       "       [-0.77866858,  0.58933599],\n",
       "       [-0.49160182,  0.58933599],\n",
       "       [-0.99396865,  0.62750542],\n",
       "       [-0.77866858,  0.62750542],\n",
       "       [ 0.65666521,  0.62750542],\n",
       "       [-0.49160182,  0.62750542],\n",
       "       [-0.34806844,  0.66567484],\n",
       "       [-0.34806844,  0.66567484],\n",
       "       [ 0.29783176,  0.66567484],\n",
       "       [ 0.010765  ,  0.66567484],\n",
       "       [ 0.36959845,  0.66567484],\n",
       "       [-0.06100169,  0.66567484],\n",
       "       [ 0.58489852,  0.66567484],\n",
       "       [-0.85043527,  0.66567484],\n",
       "       [-0.13276838,  0.66567484],\n",
       "       [-0.6351352 ,  0.66567484],\n",
       "       [-0.34806844,  0.66567484],\n",
       "       [-0.6351352 ,  0.66567484],\n",
       "       [ 1.23079873,  0.70384427],\n",
       "       [-0.70690189,  0.70384427],\n",
       "       [-1.42456879,  0.78018313],\n",
       "       [-0.56336851,  0.78018313],\n",
       "       [ 0.80019859,  0.93286085],\n",
       "       [-0.20453507,  0.93286085],\n",
       "       [ 0.22606507,  0.97103028],\n",
       "       [-0.41983513,  0.97103028],\n",
       "       [-0.20453507,  1.00919971],\n",
       "       [-0.49160182,  1.00919971],\n",
       "       [ 0.08253169,  1.00919971],\n",
       "       [-0.77866858,  1.00919971],\n",
       "       [-0.20453507,  1.00919971],\n",
       "       [-0.20453507,  1.00919971],\n",
       "       [ 0.94373197,  1.04736914],\n",
       "       [-0.6351352 ,  1.04736914],\n",
       "       [ 1.37433211,  1.04736914],\n",
       "       [-0.85043527,  1.04736914],\n",
       "       [ 1.4460988 ,  1.23821628],\n",
       "       [-0.27630176,  1.23821628],\n",
       "       [-0.13276838,  1.390894  ],\n",
       "       [-0.49160182,  1.390894  ],\n",
       "       [ 0.51313183,  1.42906343],\n",
       "       [-0.70690189,  1.42906343],\n",
       "       [ 0.15429838,  1.46723286],\n",
       "       [-0.6351352 ,  1.46723286],\n",
       "       [ 1.08726535,  1.54357172],\n",
       "       [-0.77866858,  1.54357172],\n",
       "       [ 0.15429838,  1.61991057],\n",
       "       [-0.20453507,  1.61991057],\n",
       "       [-0.34806844,  1.61991057],\n",
       "       [-0.49160182,  1.61991057],\n",
       "       [-0.41983513,  2.00160487],\n",
       "       [-0.06100169,  2.00160487],\n",
       "       [ 0.58489852,  2.26879087],\n",
       "       [-0.27630176,  2.26879087],\n",
       "       [ 0.44136514,  2.49780745],\n",
       "       [-0.49160182,  2.49780745],\n",
       "       [-0.49160182,  2.91767117],\n",
       "       [-0.6351352 ,  2.91767117]])"
      ]
     },
     "execution_count": 8,
     "metadata": {},
     "output_type": "execute_result"
    }
   ],
   "source": [
    "X_scaled"
   ]
  },
  {
   "cell_type": "code",
   "execution_count": 9,
   "id": "50e63fe0",
   "metadata": {},
   "outputs": [],
   "source": [
    "km=KMeans(n_clusters=3)"
   ]
  },
  {
   "cell_type": "code",
   "execution_count": 10,
   "id": "b71c4369",
   "metadata": {},
   "outputs": [],
   "source": [
    "km_fit=km.fit(X_scaled)"
   ]
  },
  {
   "cell_type": "code",
   "execution_count": 11,
   "id": "804b2ad9",
   "metadata": {},
   "outputs": [
    {
     "data": {
      "text/plain": [
       "array([[ 1.2169084 , -0.35628084],\n",
       "       [-0.87474334, -0.83093616],\n",
       "       [-0.27913465,  0.96851913]])"
      ]
     },
     "execution_count": 11,
     "metadata": {},
     "output_type": "execute_result"
    }
   ],
   "source": [
    "km_fit.cluster_centers_"
   ]
  },
  {
   "cell_type": "code",
   "execution_count": 12,
   "id": "24fcf4d3",
   "metadata": {},
   "outputs": [
    {
     "data": {
      "text/plain": [
       "array([1, 1, 1, 1, 1, 1, 1, 1, 0, 1, 0, 1, 0, 1, 1, 1, 1, 1, 0, 1, 1, 1,\n",
       "       0, 1, 0, 1, 0, 1, 1, 1, 0, 1, 0, 1, 0, 1, 1, 1, 1, 1, 0, 1, 0, 1,\n",
       "       0, 1, 0, 1, 1, 1, 0, 1, 1, 0, 0, 0, 0, 0, 1, 0, 0, 1, 0, 0, 0, 1,\n",
       "       0, 0, 1, 1, 0, 0, 0, 0, 0, 1, 0, 1, 1, 0, 0, 1, 0, 0, 1, 0, 0, 1,\n",
       "       1, 0, 0, 1, 0, 2, 1, 1, 0, 1, 0, 1, 1, 0, 0, 1, 0, 1, 0, 0, 0, 0,\n",
       "       0, 1, 2, 1, 1, 1, 0, 0, 0, 0, 2, 2, 2, 2, 2, 2, 2, 2, 0, 2, 0, 2,\n",
       "       2, 2, 2, 2, 2, 2, 2, 2, 0, 2, 2, 2, 2, 2, 2, 2, 2, 2, 2, 2, 2, 2,\n",
       "       2, 2, 2, 2, 2, 2, 0, 2, 2, 2, 2, 2, 2, 2, 2, 2, 2, 2, 2, 2, 2, 2,\n",
       "       0, 2, 0, 2, 2, 2, 2, 2, 2, 2, 2, 2, 2, 2, 2, 2, 2, 2, 2, 2, 2, 2,\n",
       "       2, 2])"
      ]
     },
     "execution_count": 12,
     "metadata": {},
     "output_type": "execute_result"
    }
   ],
   "source": [
    "k_pred=km_fit.predict(X_scaled)\n",
    "k_pred"
   ]
  },
  {
   "cell_type": "code",
   "execution_count": 13,
   "id": "fb4cc6c1",
   "metadata": {},
   "outputs": [],
   "source": [
    "data2=data.copy()\n",
    "data2['cluster']=k_pred"
   ]
  },
  {
   "cell_type": "code",
   "execution_count": 14,
   "id": "b0209d79",
   "metadata": {},
   "outputs": [
    {
     "data": {
      "text/html": [
       "<div>\n",
       "<style scoped>\n",
       "    .dataframe tbody tr th:only-of-type {\n",
       "        vertical-align: middle;\n",
       "    }\n",
       "\n",
       "    .dataframe tbody tr th {\n",
       "        vertical-align: top;\n",
       "    }\n",
       "\n",
       "    .dataframe thead th {\n",
       "        text-align: right;\n",
       "    }\n",
       "</style>\n",
       "<table border=\"1\" class=\"dataframe\">\n",
       "  <thead>\n",
       "    <tr style=\"text-align: right;\">\n",
       "      <th></th>\n",
       "      <th>CustomerID</th>\n",
       "      <th>Genre</th>\n",
       "      <th>Age</th>\n",
       "      <th>Annual Income (k$)</th>\n",
       "      <th>Spending Score (1-100)</th>\n",
       "      <th>cluster</th>\n",
       "    </tr>\n",
       "  </thead>\n",
       "  <tbody>\n",
       "    <tr>\n",
       "      <th>0</th>\n",
       "      <td>1</td>\n",
       "      <td>Male</td>\n",
       "      <td>19</td>\n",
       "      <td>15</td>\n",
       "      <td>39</td>\n",
       "      <td>1</td>\n",
       "    </tr>\n",
       "    <tr>\n",
       "      <th>1</th>\n",
       "      <td>2</td>\n",
       "      <td>Male</td>\n",
       "      <td>21</td>\n",
       "      <td>15</td>\n",
       "      <td>81</td>\n",
       "      <td>1</td>\n",
       "    </tr>\n",
       "    <tr>\n",
       "      <th>2</th>\n",
       "      <td>3</td>\n",
       "      <td>Female</td>\n",
       "      <td>20</td>\n",
       "      <td>16</td>\n",
       "      <td>6</td>\n",
       "      <td>1</td>\n",
       "    </tr>\n",
       "    <tr>\n",
       "      <th>3</th>\n",
       "      <td>4</td>\n",
       "      <td>Female</td>\n",
       "      <td>23</td>\n",
       "      <td>16</td>\n",
       "      <td>77</td>\n",
       "      <td>1</td>\n",
       "    </tr>\n",
       "    <tr>\n",
       "      <th>4</th>\n",
       "      <td>5</td>\n",
       "      <td>Female</td>\n",
       "      <td>31</td>\n",
       "      <td>17</td>\n",
       "      <td>40</td>\n",
       "      <td>1</td>\n",
       "    </tr>\n",
       "    <tr>\n",
       "      <th>...</th>\n",
       "      <td>...</td>\n",
       "      <td>...</td>\n",
       "      <td>...</td>\n",
       "      <td>...</td>\n",
       "      <td>...</td>\n",
       "      <td>...</td>\n",
       "    </tr>\n",
       "    <tr>\n",
       "      <th>195</th>\n",
       "      <td>196</td>\n",
       "      <td>Female</td>\n",
       "      <td>35</td>\n",
       "      <td>120</td>\n",
       "      <td>79</td>\n",
       "      <td>2</td>\n",
       "    </tr>\n",
       "    <tr>\n",
       "      <th>196</th>\n",
       "      <td>197</td>\n",
       "      <td>Female</td>\n",
       "      <td>45</td>\n",
       "      <td>126</td>\n",
       "      <td>28</td>\n",
       "      <td>2</td>\n",
       "    </tr>\n",
       "    <tr>\n",
       "      <th>197</th>\n",
       "      <td>198</td>\n",
       "      <td>Male</td>\n",
       "      <td>32</td>\n",
       "      <td>126</td>\n",
       "      <td>74</td>\n",
       "      <td>2</td>\n",
       "    </tr>\n",
       "    <tr>\n",
       "      <th>198</th>\n",
       "      <td>199</td>\n",
       "      <td>Male</td>\n",
       "      <td>32</td>\n",
       "      <td>137</td>\n",
       "      <td>18</td>\n",
       "      <td>2</td>\n",
       "    </tr>\n",
       "    <tr>\n",
       "      <th>199</th>\n",
       "      <td>200</td>\n",
       "      <td>Male</td>\n",
       "      <td>30</td>\n",
       "      <td>137</td>\n",
       "      <td>83</td>\n",
       "      <td>2</td>\n",
       "    </tr>\n",
       "  </tbody>\n",
       "</table>\n",
       "<p>200 rows × 6 columns</p>\n",
       "</div>"
      ],
      "text/plain": [
       "     CustomerID   Genre  Age  Annual Income (k$)  Spending Score (1-100)  \\\n",
       "0             1    Male   19                  15                      39   \n",
       "1             2    Male   21                  15                      81   \n",
       "2             3  Female   20                  16                       6   \n",
       "3             4  Female   23                  16                      77   \n",
       "4             5  Female   31                  17                      40   \n",
       "..          ...     ...  ...                 ...                     ...   \n",
       "195         196  Female   35                 120                      79   \n",
       "196         197  Female   45                 126                      28   \n",
       "197         198    Male   32                 126                      74   \n",
       "198         199    Male   32                 137                      18   \n",
       "199         200    Male   30                 137                      83   \n",
       "\n",
       "     cluster  \n",
       "0          1  \n",
       "1          1  \n",
       "2          1  \n",
       "3          1  \n",
       "4          1  \n",
       "..       ...  \n",
       "195        2  \n",
       "196        2  \n",
       "197        2  \n",
       "198        2  \n",
       "199        2  \n",
       "\n",
       "[200 rows x 6 columns]"
      ]
     },
     "execution_count": 14,
     "metadata": {},
     "output_type": "execute_result"
    }
   ],
   "source": [
    "data2"
   ]
  },
  {
   "cell_type": "code",
   "execution_count": 15,
   "id": "0a0bbb9f",
   "metadata": {},
   "outputs": [
    {
     "data": {
      "text/plain": [
       "<AxesSubplot:xlabel='Age', ylabel='Annual Income (k$)'>"
      ]
     },
     "execution_count": 15,
     "metadata": {},
     "output_type": "execute_result"
    },
    {
     "data": {
      "image/png": "[encoded data removed]",
      "text/plain": [
       "<Figure size 432x288 with 1 Axes>"
      ]
     },
     "metadata": {
      "needs_background": "light"
     },
     "output_type": "display_data"
    }
   ],
   "source": [
    "sns.scatterplot(x='Age',y='Annual Income (k$)',hue='cluster',data=data2,palette='winter')"
   ]
  },
  {
   "cell_type": "code",
   "execution_count": 16,
   "id": "d2996800",
   "metadata": {},
   "outputs": [
    {
     "name": "stderr",
     "output_type": "stream",
     "text": [
      "C:\\Users\\hp\\anaconda3\\lib\\site-packages\\sklearn\\cluster\\_kmeans.py:1036: UserWarning: KMeans is known to have a memory leak on Windows with MKL, when there are less chunks than available threads. You can avoid it by setting the environment variable OMP_NUM_THREADS=1.\n",
      "  warnings.warn(\n"
     ]
    }
   ],
   "source": [
    "wcss=[]\n",
    "for i in range (1,11):\n",
    "    km=km=KMeans(n_clusters=i)\n",
    "    km.fit(X)\n",
    "    wcss.append(km.inertia_)"
   ]
  },
  {
   "cell_type": "code",
   "execution_count": 17,
   "id": "45284159",
   "metadata": {
    "scrolled": true
   },
   "outputs": [
    {
     "data": {
      "text/plain": [
       "[176108.78000000003,\n",
       " 87121.56591478697,\n",
       " 59492.737994932715,\n",
       " 39529.88796736351,\n",
       " 31659.353138717815,\n",
       " 25399.02200441698,\n",
       " 21882.904123503034,\n",
       " 18864.876029385057,\n",
       " 15976.994655875525,\n",
       " 13852.683732057414]"
      ]
     },
     "execution_count": 17,
     "metadata": {},
     "output_type": "execute_result"
    }
   ],
   "source": [
    "wcss"
   ]
  },
  {
   "cell_type": "code",
   "execution_count": 18,
   "id": "39e1a918",
   "metadata": {},
   "outputs": [],
   "source": [
    "##### value for cluster is 3"
   ]
  },
  {
   "cell_type": "code",
   "execution_count": 39,
   "id": "7625b1fc",
   "metadata": {},
   "outputs": [
    {
     "data": {
      "text/plain": [
       "[<matplotlib.lines.Line2D at 0x1fed0f00040>]"
      ]
     },
     "execution_count": 39,
     "metadata": {},
     "output_type": "execute_result"
    },
    {
     "data": {
      "image/png": "[encoded data removed]",
      "text/plain": [
       "<Figure size 432x288 with 1 Axes>"
      ]
     },
     "metadata": {
      "needs_background": "light"
     },
     "output_type": "display_data"
    }
   ],
   "source": [
    "plt.plot(range(1,11),wcss,'bx-')"
   ]
  },
  {
   "cell_type": "code",
   "execution_count": 20,
   "id": "97587ac0",
   "metadata": {},
   "outputs": [],
   "source": [
    "from sklearn.metrics import silhouette_score"
   ]
  },
  {
   "cell_type": "code",
   "execution_count": 21,
   "id": "afaab6bb",
   "metadata": {},
   "outputs": [
    {
     "data": {
      "text/plain": [
       "0.34495768138038213"
      ]
     },
     "execution_count": 21,
     "metadata": {},
     "output_type": "execute_result"
    }
   ],
   "source": [
    "silhouette_score(X_scaled,km.labels_)"
   ]
  },
  {
   "cell_type": "code",
   "execution_count": 22,
   "id": "1f8e24f8",
   "metadata": {},
   "outputs": [
    {
     "data": {
      "text/html": [
       "<div>\n",
       "<style scoped>\n",
       "    .dataframe tbody tr th:only-of-type {\n",
       "        vertical-align: middle;\n",
       "    }\n",
       "\n",
       "    .dataframe tbody tr th {\n",
       "        vertical-align: top;\n",
       "    }\n",
       "\n",
       "    .dataframe thead th {\n",
       "        text-align: right;\n",
       "    }\n",
       "</style>\n",
       "<table border=\"1\" class=\"dataframe\">\n",
       "  <thead>\n",
       "    <tr style=\"text-align: right;\">\n",
       "      <th></th>\n",
       "      <th>CustomerID</th>\n",
       "      <th>Genre</th>\n",
       "      <th>Age</th>\n",
       "      <th>Annual Income (k$)</th>\n",
       "      <th>Spending Score (1-100)</th>\n",
       "    </tr>\n",
       "    <tr>\n",
       "      <th>cluster</th>\n",
       "      <th></th>\n",
       "      <th></th>\n",
       "      <th></th>\n",
       "      <th></th>\n",
       "      <th></th>\n",
       "    </tr>\n",
       "  </thead>\n",
       "  <tbody>\n",
       "    <tr>\n",
       "      <th>0</th>\n",
       "      <td>62</td>\n",
       "      <td>62</td>\n",
       "      <td>62</td>\n",
       "      <td>62</td>\n",
       "      <td>62</td>\n",
       "    </tr>\n",
       "    <tr>\n",
       "      <th>1</th>\n",
       "      <td>62</td>\n",
       "      <td>62</td>\n",
       "      <td>62</td>\n",
       "      <td>62</td>\n",
       "      <td>62</td>\n",
       "    </tr>\n",
       "    <tr>\n",
       "      <th>2</th>\n",
       "      <td>76</td>\n",
       "      <td>76</td>\n",
       "      <td>76</td>\n",
       "      <td>76</td>\n",
       "      <td>76</td>\n",
       "    </tr>\n",
       "  </tbody>\n",
       "</table>\n",
       "</div>"
      ],
      "text/plain": [
       "         CustomerID  Genre  Age  Annual Income (k$)  Spending Score (1-100)\n",
       "cluster                                                                    \n",
       "0                62     62   62                  62                      62\n",
       "1                62     62   62                  62                      62\n",
       "2                76     76   76                  76                      76"
      ]
     },
     "execution_count": 22,
     "metadata": {},
     "output_type": "execute_result"
    }
   ],
   "source": [
    "data2.groupby('cluster').count()"
   ]
  },
  {
   "cell_type": "code",
   "execution_count": 40,
   "id": "dc5ad0a8",
   "metadata": {},
   "outputs": [
    {
     "data": {
      "text/plain": [
       "cluster\n",
       "0    62\n",
       "1    62\n",
       "2    76\n",
       "dtype: int64"
      ]
     },
     "execution_count": 40,
     "metadata": {},
     "output_type": "execute_result"
    }
   ],
   "source": [
    "data2.groupby('cluster').size()"
   ]
  },
  {
   "cell_type": "code",
   "execution_count": null,
   "id": "8c273df2",
   "metadata": {},
   "outputs": [],
   "source": []
  }
 ],
 "metadata": {
  "kernelspec": {
   "display_name": "Python 3 (ipykernel)",
   "language": "python",
   "name": "python3"
  },
  "language_info": {
   "codemirror_mode": {
    "name": "ipython",
    "version": 3
   },
   "file_extension": ".py",
   "mimetype": "text/x-python",
   "name": "python",
   "nbconvert_exporter": "python",
   "pygments_lexer": "ipython3",
   "version": "3.9.12"
  }
 },
 "nbformat": 4,
 "nbformat_minor": 5
}
