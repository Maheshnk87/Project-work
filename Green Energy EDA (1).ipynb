{
 "cells": [
  {
   "cell_type": "code",
   "execution_count": 1,
   "id": "b15bc800",
   "metadata": {},
   "outputs": [],
   "source": [
    "#### importing packages\n",
    "import pandas as pd\n",
    "import seaborn as sns\n",
    "import datetime\n",
    "import matplotlib.pyplot as plt"
   ]
  },
  {
   "cell_type": "code",
   "execution_count": 2,
   "id": "7ee6715b",
   "metadata": {},
   "outputs": [],
   "source": [
    "##### loading the dataset"
   ]
  },
  {
   "cell_type": "code",
   "execution_count": 3,
   "id": "22949e50",
   "metadata": {},
   "outputs": [
    {
     "data": {
      "text/html": [
       "<div>\n",
       "<style scoped>\n",
       "    .dataframe tbody tr th:only-of-type {\n",
       "        vertical-align: middle;\n",
       "    }\n",
       "\n",
       "    .dataframe tbody tr th {\n",
       "        vertical-align: top;\n",
       "    }\n",
       "\n",
       "    .dataframe thead th {\n",
       "        text-align: right;\n",
       "    }\n",
       "</style>\n",
       "<table border=\"1\" class=\"dataframe\">\n",
       "  <thead>\n",
       "    <tr style=\"text-align: right;\">\n",
       "      <th></th>\n",
       "      <th>row_id</th>\n",
       "      <th>datetime</th>\n",
       "      <th>energy</th>\n",
       "    </tr>\n",
       "  </thead>\n",
       "  <tbody>\n",
       "    <tr>\n",
       "      <th>0</th>\n",
       "      <td>1</td>\n",
       "      <td>2008-03-01 00:00:00</td>\n",
       "      <td>1259.985563</td>\n",
       "    </tr>\n",
       "    <tr>\n",
       "      <th>1</th>\n",
       "      <td>2</td>\n",
       "      <td>2008-03-01 01:00:00</td>\n",
       "      <td>1095.541500</td>\n",
       "    </tr>\n",
       "    <tr>\n",
       "      <th>2</th>\n",
       "      <td>3</td>\n",
       "      <td>2008-03-01 02:00:00</td>\n",
       "      <td>1056.247500</td>\n",
       "    </tr>\n",
       "    <tr>\n",
       "      <th>3</th>\n",
       "      <td>4</td>\n",
       "      <td>2008-03-01 03:00:00</td>\n",
       "      <td>1034.742000</td>\n",
       "    </tr>\n",
       "    <tr>\n",
       "      <th>4</th>\n",
       "      <td>5</td>\n",
       "      <td>2008-03-01 04:00:00</td>\n",
       "      <td>1026.334500</td>\n",
       "    </tr>\n",
       "    <tr>\n",
       "      <th>...</th>\n",
       "      <td>...</td>\n",
       "      <td>...</td>\n",
       "      <td>...</td>\n",
       "    </tr>\n",
       "    <tr>\n",
       "      <th>94987</th>\n",
       "      <td>94988</td>\n",
       "      <td>2018-12-31 19:00:00</td>\n",
       "      <td>2528.446800</td>\n",
       "    </tr>\n",
       "    <tr>\n",
       "      <th>94988</th>\n",
       "      <td>94989</td>\n",
       "      <td>2018-12-31 20:00:00</td>\n",
       "      <td>2461.883600</td>\n",
       "    </tr>\n",
       "    <tr>\n",
       "      <th>94989</th>\n",
       "      <td>94990</td>\n",
       "      <td>2018-12-31 21:00:00</td>\n",
       "      <td>2365.994400</td>\n",
       "    </tr>\n",
       "    <tr>\n",
       "      <th>94990</th>\n",
       "      <td>94991</td>\n",
       "      <td>2018-12-31 22:00:00</td>\n",
       "      <td>2342.942800</td>\n",
       "    </tr>\n",
       "    <tr>\n",
       "      <th>94991</th>\n",
       "      <td>94992</td>\n",
       "      <td>2018-12-31 23:00:00</td>\n",
       "      <td>2180.217600</td>\n",
       "    </tr>\n",
       "  </tbody>\n",
       "</table>\n",
       "<p>94992 rows × 3 columns</p>\n",
       "</div>"
      ],
      "text/plain": [
       "       row_id             datetime       energy\n",
       "0           1  2008-03-01 00:00:00  1259.985563\n",
       "1           2  2008-03-01 01:00:00  1095.541500\n",
       "2           3  2008-03-01 02:00:00  1056.247500\n",
       "3           4  2008-03-01 03:00:00  1034.742000\n",
       "4           5  2008-03-01 04:00:00  1026.334500\n",
       "...       ...                  ...          ...\n",
       "94987   94988  2018-12-31 19:00:00  2528.446800\n",
       "94988   94989  2018-12-31 20:00:00  2461.883600\n",
       "94989   94990  2018-12-31 21:00:00  2365.994400\n",
       "94990   94991  2018-12-31 22:00:00  2342.942800\n",
       "94991   94992  2018-12-31 23:00:00  2180.217600\n",
       "\n",
       "[94992 rows x 3 columns]"
      ]
     },
     "execution_count": 3,
     "metadata": {},
     "output_type": "execute_result"
    }
   ],
   "source": [
    "df=pd.read_csv('C:/Users/hp/Desktop/Datasets/greenpower/train_IxoE5JN.csv')\n",
    "df"
   ]
  },
  {
   "cell_type": "code",
   "execution_count": 4,
   "id": "0057a039",
   "metadata": {},
   "outputs": [],
   "source": [
    "def pre_processing (df) :\n",
    "    raws=df.shape[0]\n",
    "    print('Total Nos of raws in dataset are : ',raws)\n",
    "    columns=df.shape[1]\n",
    "    print('Total Nos of columns in dataset are : ',columns)\n",
    "    total_miss=df.isnull().sum()\n",
    "    print('Total Nos of missing values in datasets are : \\n', total_miss)\n",
    "    data_types=df.dtypes\n",
    "    print('Datatypes in datasets are :\\n', data_types)\n",
    "    return(df)"
   ]
  },
  {
   "cell_type": "code",
   "execution_count": 5,
   "id": "4f4ffe3e",
   "metadata": {},
   "outputs": [
    {
     "name": "stdout",
     "output_type": "stream",
     "text": [
      "Total Nos of raws in dataset are :  94992\n",
      "Total Nos of columns in dataset are :  3\n",
      "Total Nos of missing values in datasets are : \n",
      " row_id         0\n",
      "datetime       0\n",
      "energy      1900\n",
      "dtype: int64\n",
      "Datatypes in datasets are :\n",
      " row_id        int64\n",
      "datetime     object\n",
      "energy      float64\n",
      "dtype: object\n"
     ]
    },
    {
     "data": {
      "text/html": [
       "<div>\n",
       "<style scoped>\n",
       "    .dataframe tbody tr th:only-of-type {\n",
       "        vertical-align: middle;\n",
       "    }\n",
       "\n",
       "    .dataframe tbody tr th {\n",
       "        vertical-align: top;\n",
       "    }\n",
       "\n",
       "    .dataframe thead th {\n",
       "        text-align: right;\n",
       "    }\n",
       "</style>\n",
       "<table border=\"1\" class=\"dataframe\">\n",
       "  <thead>\n",
       "    <tr style=\"text-align: right;\">\n",
       "      <th></th>\n",
       "      <th>row_id</th>\n",
       "      <th>datetime</th>\n",
       "      <th>energy</th>\n",
       "    </tr>\n",
       "  </thead>\n",
       "  <tbody>\n",
       "    <tr>\n",
       "      <th>0</th>\n",
       "      <td>1</td>\n",
       "      <td>2008-03-01 00:00:00</td>\n",
       "      <td>1259.985563</td>\n",
       "    </tr>\n",
       "    <tr>\n",
       "      <th>1</th>\n",
       "      <td>2</td>\n",
       "      <td>2008-03-01 01:00:00</td>\n",
       "      <td>1095.541500</td>\n",
       "    </tr>\n",
       "    <tr>\n",
       "      <th>2</th>\n",
       "      <td>3</td>\n",
       "      <td>2008-03-01 02:00:00</td>\n",
       "      <td>1056.247500</td>\n",
       "    </tr>\n",
       "    <tr>\n",
       "      <th>3</th>\n",
       "      <td>4</td>\n",
       "      <td>2008-03-01 03:00:00</td>\n",
       "      <td>1034.742000</td>\n",
       "    </tr>\n",
       "    <tr>\n",
       "      <th>4</th>\n",
       "      <td>5</td>\n",
       "      <td>2008-03-01 04:00:00</td>\n",
       "      <td>1026.334500</td>\n",
       "    </tr>\n",
       "    <tr>\n",
       "      <th>...</th>\n",
       "      <td>...</td>\n",
       "      <td>...</td>\n",
       "      <td>...</td>\n",
       "    </tr>\n",
       "    <tr>\n",
       "      <th>94987</th>\n",
       "      <td>94988</td>\n",
       "      <td>2018-12-31 19:00:00</td>\n",
       "      <td>2528.446800</td>\n",
       "    </tr>\n",
       "    <tr>\n",
       "      <th>94988</th>\n",
       "      <td>94989</td>\n",
       "      <td>2018-12-31 20:00:00</td>\n",
       "      <td>2461.883600</td>\n",
       "    </tr>\n",
       "    <tr>\n",
       "      <th>94989</th>\n",
       "      <td>94990</td>\n",
       "      <td>2018-12-31 21:00:00</td>\n",
       "      <td>2365.994400</td>\n",
       "    </tr>\n",
       "    <tr>\n",
       "      <th>94990</th>\n",
       "      <td>94991</td>\n",
       "      <td>2018-12-31 22:00:00</td>\n",
       "      <td>2342.942800</td>\n",
       "    </tr>\n",
       "    <tr>\n",
       "      <th>94991</th>\n",
       "      <td>94992</td>\n",
       "      <td>2018-12-31 23:00:00</td>\n",
       "      <td>2180.217600</td>\n",
       "    </tr>\n",
       "  </tbody>\n",
       "</table>\n",
       "<p>94992 rows × 3 columns</p>\n",
       "</div>"
      ],
      "text/plain": [
       "       row_id             datetime       energy\n",
       "0           1  2008-03-01 00:00:00  1259.985563\n",
       "1           2  2008-03-01 01:00:00  1095.541500\n",
       "2           3  2008-03-01 02:00:00  1056.247500\n",
       "3           4  2008-03-01 03:00:00  1034.742000\n",
       "4           5  2008-03-01 04:00:00  1026.334500\n",
       "...       ...                  ...          ...\n",
       "94987   94988  2018-12-31 19:00:00  2528.446800\n",
       "94988   94989  2018-12-31 20:00:00  2461.883600\n",
       "94989   94990  2018-12-31 21:00:00  2365.994400\n",
       "94990   94991  2018-12-31 22:00:00  2342.942800\n",
       "94991   94992  2018-12-31 23:00:00  2180.217600\n",
       "\n",
       "[94992 rows x 3 columns]"
      ]
     },
     "execution_count": 5,
     "metadata": {},
     "output_type": "execute_result"
    }
   ],
   "source": [
    "pre_processing(df)"
   ]
  },
  {
   "cell_type": "code",
   "execution_count": 6,
   "id": "a8a8f453",
   "metadata": {},
   "outputs": [
    {
     "data": {
      "text/html": [
       "<div>\n",
       "<style scoped>\n",
       "    .dataframe tbody tr th:only-of-type {\n",
       "        vertical-align: middle;\n",
       "    }\n",
       "\n",
       "    .dataframe tbody tr th {\n",
       "        vertical-align: top;\n",
       "    }\n",
       "\n",
       "    .dataframe thead th {\n",
       "        text-align: right;\n",
       "    }\n",
       "</style>\n",
       "<table border=\"1\" class=\"dataframe\">\n",
       "  <thead>\n",
       "    <tr style=\"text-align: right;\">\n",
       "      <th></th>\n",
       "      <th>row_id</th>\n",
       "      <th>datetime</th>\n",
       "      <th>energy</th>\n",
       "    </tr>\n",
       "  </thead>\n",
       "  <tbody>\n",
       "    <tr>\n",
       "      <th>0</th>\n",
       "      <td>1</td>\n",
       "      <td>2008-03-01 00:00:00</td>\n",
       "      <td>1259.985563</td>\n",
       "    </tr>\n",
       "    <tr>\n",
       "      <th>1</th>\n",
       "      <td>2</td>\n",
       "      <td>2008-03-01 01:00:00</td>\n",
       "      <td>1095.541500</td>\n",
       "    </tr>\n",
       "    <tr>\n",
       "      <th>2</th>\n",
       "      <td>3</td>\n",
       "      <td>2008-03-01 02:00:00</td>\n",
       "      <td>1056.247500</td>\n",
       "    </tr>\n",
       "    <tr>\n",
       "      <th>3</th>\n",
       "      <td>4</td>\n",
       "      <td>2008-03-01 03:00:00</td>\n",
       "      <td>1034.742000</td>\n",
       "    </tr>\n",
       "    <tr>\n",
       "      <th>4</th>\n",
       "      <td>5</td>\n",
       "      <td>2008-03-01 04:00:00</td>\n",
       "      <td>1026.334500</td>\n",
       "    </tr>\n",
       "    <tr>\n",
       "      <th>...</th>\n",
       "      <td>...</td>\n",
       "      <td>...</td>\n",
       "      <td>...</td>\n",
       "    </tr>\n",
       "    <tr>\n",
       "      <th>94987</th>\n",
       "      <td>94988</td>\n",
       "      <td>2018-12-31 19:00:00</td>\n",
       "      <td>2528.446800</td>\n",
       "    </tr>\n",
       "    <tr>\n",
       "      <th>94988</th>\n",
       "      <td>94989</td>\n",
       "      <td>2018-12-31 20:00:00</td>\n",
       "      <td>2461.883600</td>\n",
       "    </tr>\n",
       "    <tr>\n",
       "      <th>94989</th>\n",
       "      <td>94990</td>\n",
       "      <td>2018-12-31 21:00:00</td>\n",
       "      <td>2365.994400</td>\n",
       "    </tr>\n",
       "    <tr>\n",
       "      <th>94990</th>\n",
       "      <td>94991</td>\n",
       "      <td>2018-12-31 22:00:00</td>\n",
       "      <td>2342.942800</td>\n",
       "    </tr>\n",
       "    <tr>\n",
       "      <th>94991</th>\n",
       "      <td>94992</td>\n",
       "      <td>2018-12-31 23:00:00</td>\n",
       "      <td>2180.217600</td>\n",
       "    </tr>\n",
       "  </tbody>\n",
       "</table>\n",
       "<p>94992 rows × 3 columns</p>\n",
       "</div>"
      ],
      "text/plain": [
       "       row_id             datetime       energy\n",
       "0           1  2008-03-01 00:00:00  1259.985563\n",
       "1           2  2008-03-01 01:00:00  1095.541500\n",
       "2           3  2008-03-01 02:00:00  1056.247500\n",
       "3           4  2008-03-01 03:00:00  1034.742000\n",
       "4           5  2008-03-01 04:00:00  1026.334500\n",
       "...       ...                  ...          ...\n",
       "94987   94988  2018-12-31 19:00:00  2528.446800\n",
       "94988   94989  2018-12-31 20:00:00  2461.883600\n",
       "94989   94990  2018-12-31 21:00:00  2365.994400\n",
       "94990   94991  2018-12-31 22:00:00  2342.942800\n",
       "94991   94992  2018-12-31 23:00:00  2180.217600\n",
       "\n",
       "[94992 rows x 3 columns]"
      ]
     },
     "execution_count": 6,
     "metadata": {},
     "output_type": "execute_result"
    }
   ],
   "source": [
    "df=df.fillna(df['energy'].mean())\n",
    "df\n"
   ]
  },
  {
   "cell_type": "code",
   "execution_count": 7,
   "id": "e6d9affe",
   "metadata": {},
   "outputs": [],
   "source": [
    "#### here datetime datatype is object, need to convert to datetime format"
   ]
  },
  {
   "cell_type": "code",
   "execution_count": 8,
   "id": "806d8960",
   "metadata": {},
   "outputs": [],
   "source": [
    "df['datetime']=pd.to_datetime(df['datetime'])"
   ]
  },
  {
   "cell_type": "code",
   "execution_count": 9,
   "id": "9639d6cc",
   "metadata": {},
   "outputs": [
    {
     "data": {
      "text/html": [
       "<div>\n",
       "<style scoped>\n",
       "    .dataframe tbody tr th:only-of-type {\n",
       "        vertical-align: middle;\n",
       "    }\n",
       "\n",
       "    .dataframe tbody tr th {\n",
       "        vertical-align: top;\n",
       "    }\n",
       "\n",
       "    .dataframe thead th {\n",
       "        text-align: right;\n",
       "    }\n",
       "</style>\n",
       "<table border=\"1\" class=\"dataframe\">\n",
       "  <thead>\n",
       "    <tr style=\"text-align: right;\">\n",
       "      <th></th>\n",
       "      <th>row_id</th>\n",
       "      <th>datetime</th>\n",
       "      <th>energy</th>\n",
       "    </tr>\n",
       "  </thead>\n",
       "  <tbody>\n",
       "    <tr>\n",
       "      <th>0</th>\n",
       "      <td>1</td>\n",
       "      <td>2008-03-01 00:00:00</td>\n",
       "      <td>1259.985563</td>\n",
       "    </tr>\n",
       "    <tr>\n",
       "      <th>1</th>\n",
       "      <td>2</td>\n",
       "      <td>2008-03-01 01:00:00</td>\n",
       "      <td>1095.541500</td>\n",
       "    </tr>\n",
       "    <tr>\n",
       "      <th>2</th>\n",
       "      <td>3</td>\n",
       "      <td>2008-03-01 02:00:00</td>\n",
       "      <td>1056.247500</td>\n",
       "    </tr>\n",
       "    <tr>\n",
       "      <th>3</th>\n",
       "      <td>4</td>\n",
       "      <td>2008-03-01 03:00:00</td>\n",
       "      <td>1034.742000</td>\n",
       "    </tr>\n",
       "    <tr>\n",
       "      <th>4</th>\n",
       "      <td>5</td>\n",
       "      <td>2008-03-01 04:00:00</td>\n",
       "      <td>1026.334500</td>\n",
       "    </tr>\n",
       "    <tr>\n",
       "      <th>...</th>\n",
       "      <td>...</td>\n",
       "      <td>...</td>\n",
       "      <td>...</td>\n",
       "    </tr>\n",
       "    <tr>\n",
       "      <th>94987</th>\n",
       "      <td>94988</td>\n",
       "      <td>2018-12-31 19:00:00</td>\n",
       "      <td>2528.446800</td>\n",
       "    </tr>\n",
       "    <tr>\n",
       "      <th>94988</th>\n",
       "      <td>94989</td>\n",
       "      <td>2018-12-31 20:00:00</td>\n",
       "      <td>2461.883600</td>\n",
       "    </tr>\n",
       "    <tr>\n",
       "      <th>94989</th>\n",
       "      <td>94990</td>\n",
       "      <td>2018-12-31 21:00:00</td>\n",
       "      <td>2365.994400</td>\n",
       "    </tr>\n",
       "    <tr>\n",
       "      <th>94990</th>\n",
       "      <td>94991</td>\n",
       "      <td>2018-12-31 22:00:00</td>\n",
       "      <td>2342.942800</td>\n",
       "    </tr>\n",
       "    <tr>\n",
       "      <th>94991</th>\n",
       "      <td>94992</td>\n",
       "      <td>2018-12-31 23:00:00</td>\n",
       "      <td>2180.217600</td>\n",
       "    </tr>\n",
       "  </tbody>\n",
       "</table>\n",
       "<p>94992 rows × 3 columns</p>\n",
       "</div>"
      ],
      "text/plain": [
       "       row_id            datetime       energy\n",
       "0           1 2008-03-01 00:00:00  1259.985563\n",
       "1           2 2008-03-01 01:00:00  1095.541500\n",
       "2           3 2008-03-01 02:00:00  1056.247500\n",
       "3           4 2008-03-01 03:00:00  1034.742000\n",
       "4           5 2008-03-01 04:00:00  1026.334500\n",
       "...       ...                 ...          ...\n",
       "94987   94988 2018-12-31 19:00:00  2528.446800\n",
       "94988   94989 2018-12-31 20:00:00  2461.883600\n",
       "94989   94990 2018-12-31 21:00:00  2365.994400\n",
       "94990   94991 2018-12-31 22:00:00  2342.942800\n",
       "94991   94992 2018-12-31 23:00:00  2180.217600\n",
       "\n",
       "[94992 rows x 3 columns]"
      ]
     },
     "execution_count": 9,
     "metadata": {},
     "output_type": "execute_result"
    }
   ],
   "source": [
    "df"
   ]
  },
  {
   "cell_type": "code",
   "execution_count": 10,
   "id": "61dfafa8",
   "metadata": {},
   "outputs": [
    {
     "data": {
      "text/plain": [
       "row_id               int64\n",
       "datetime    datetime64[ns]\n",
       "energy             float64\n",
       "dtype: object"
      ]
     },
     "execution_count": 10,
     "metadata": {},
     "output_type": "execute_result"
    }
   ],
   "source": [
    "df.dtypes"
   ]
  },
  {
   "cell_type": "code",
   "execution_count": 11,
   "id": "353b8bb5",
   "metadata": {},
   "outputs": [],
   "source": [
    "#### extracting data by hour,day,weekday,day_name,month and year"
   ]
  },
  {
   "cell_type": "code",
   "execution_count": 12,
   "id": "a88aff7d",
   "metadata": {},
   "outputs": [],
   "source": [
    "df['hour']=df['datetime'].apply(lambda x:x.hour)\n",
    "df['day']=df['datetime'].apply(lambda x:x.day)\n",
    "df['weekday']=df['datetime'].apply(lambda x:x.weekday())\n",
    "df['day_name']=df['datetime'].apply(lambda x:x.day_name())\n",
    "df['month']=df['datetime'].apply(lambda x:x.month)\n",
    "df['year']=df['datetime'].apply(lambda x:x.year)"
   ]
  },
  {
   "cell_type": "code",
   "execution_count": 13,
   "id": "e0f33650",
   "metadata": {},
   "outputs": [
    {
     "data": {
      "text/html": [
       "<div>\n",
       "<style scoped>\n",
       "    .dataframe tbody tr th:only-of-type {\n",
       "        vertical-align: middle;\n",
       "    }\n",
       "\n",
       "    .dataframe tbody tr th {\n",
       "        vertical-align: top;\n",
       "    }\n",
       "\n",
       "    .dataframe thead th {\n",
       "        text-align: right;\n",
       "    }\n",
       "</style>\n",
       "<table border=\"1\" class=\"dataframe\">\n",
       "  <thead>\n",
       "    <tr style=\"text-align: right;\">\n",
       "      <th></th>\n",
       "      <th>row_id</th>\n",
       "      <th>datetime</th>\n",
       "      <th>energy</th>\n",
       "      <th>hour</th>\n",
       "      <th>day</th>\n",
       "      <th>weekday</th>\n",
       "      <th>day_name</th>\n",
       "      <th>month</th>\n",
       "      <th>year</th>\n",
       "    </tr>\n",
       "  </thead>\n",
       "  <tbody>\n",
       "    <tr>\n",
       "      <th>0</th>\n",
       "      <td>1</td>\n",
       "      <td>2008-03-01 00:00:00</td>\n",
       "      <td>1259.985563</td>\n",
       "      <td>0</td>\n",
       "      <td>1</td>\n",
       "      <td>5</td>\n",
       "      <td>Saturday</td>\n",
       "      <td>3</td>\n",
       "      <td>2008</td>\n",
       "    </tr>\n",
       "    <tr>\n",
       "      <th>1</th>\n",
       "      <td>2</td>\n",
       "      <td>2008-03-01 01:00:00</td>\n",
       "      <td>1095.541500</td>\n",
       "      <td>1</td>\n",
       "      <td>1</td>\n",
       "      <td>5</td>\n",
       "      <td>Saturday</td>\n",
       "      <td>3</td>\n",
       "      <td>2008</td>\n",
       "    </tr>\n",
       "    <tr>\n",
       "      <th>2</th>\n",
       "      <td>3</td>\n",
       "      <td>2008-03-01 02:00:00</td>\n",
       "      <td>1056.247500</td>\n",
       "      <td>2</td>\n",
       "      <td>1</td>\n",
       "      <td>5</td>\n",
       "      <td>Saturday</td>\n",
       "      <td>3</td>\n",
       "      <td>2008</td>\n",
       "    </tr>\n",
       "    <tr>\n",
       "      <th>3</th>\n",
       "      <td>4</td>\n",
       "      <td>2008-03-01 03:00:00</td>\n",
       "      <td>1034.742000</td>\n",
       "      <td>3</td>\n",
       "      <td>1</td>\n",
       "      <td>5</td>\n",
       "      <td>Saturday</td>\n",
       "      <td>3</td>\n",
       "      <td>2008</td>\n",
       "    </tr>\n",
       "    <tr>\n",
       "      <th>4</th>\n",
       "      <td>5</td>\n",
       "      <td>2008-03-01 04:00:00</td>\n",
       "      <td>1026.334500</td>\n",
       "      <td>4</td>\n",
       "      <td>1</td>\n",
       "      <td>5</td>\n",
       "      <td>Saturday</td>\n",
       "      <td>3</td>\n",
       "      <td>2008</td>\n",
       "    </tr>\n",
       "    <tr>\n",
       "      <th>...</th>\n",
       "      <td>...</td>\n",
       "      <td>...</td>\n",
       "      <td>...</td>\n",
       "      <td>...</td>\n",
       "      <td>...</td>\n",
       "      <td>...</td>\n",
       "      <td>...</td>\n",
       "      <td>...</td>\n",
       "      <td>...</td>\n",
       "    </tr>\n",
       "    <tr>\n",
       "      <th>94987</th>\n",
       "      <td>94988</td>\n",
       "      <td>2018-12-31 19:00:00</td>\n",
       "      <td>2528.446800</td>\n",
       "      <td>19</td>\n",
       "      <td>31</td>\n",
       "      <td>0</td>\n",
       "      <td>Monday</td>\n",
       "      <td>12</td>\n",
       "      <td>2018</td>\n",
       "    </tr>\n",
       "    <tr>\n",
       "      <th>94988</th>\n",
       "      <td>94989</td>\n",
       "      <td>2018-12-31 20:00:00</td>\n",
       "      <td>2461.883600</td>\n",
       "      <td>20</td>\n",
       "      <td>31</td>\n",
       "      <td>0</td>\n",
       "      <td>Monday</td>\n",
       "      <td>12</td>\n",
       "      <td>2018</td>\n",
       "    </tr>\n",
       "    <tr>\n",
       "      <th>94989</th>\n",
       "      <td>94990</td>\n",
       "      <td>2018-12-31 21:00:00</td>\n",
       "      <td>2365.994400</td>\n",
       "      <td>21</td>\n",
       "      <td>31</td>\n",
       "      <td>0</td>\n",
       "      <td>Monday</td>\n",
       "      <td>12</td>\n",
       "      <td>2018</td>\n",
       "    </tr>\n",
       "    <tr>\n",
       "      <th>94990</th>\n",
       "      <td>94991</td>\n",
       "      <td>2018-12-31 22:00:00</td>\n",
       "      <td>2342.942800</td>\n",
       "      <td>22</td>\n",
       "      <td>31</td>\n",
       "      <td>0</td>\n",
       "      <td>Monday</td>\n",
       "      <td>12</td>\n",
       "      <td>2018</td>\n",
       "    </tr>\n",
       "    <tr>\n",
       "      <th>94991</th>\n",
       "      <td>94992</td>\n",
       "      <td>2018-12-31 23:00:00</td>\n",
       "      <td>2180.217600</td>\n",
       "      <td>23</td>\n",
       "      <td>31</td>\n",
       "      <td>0</td>\n",
       "      <td>Monday</td>\n",
       "      <td>12</td>\n",
       "      <td>2018</td>\n",
       "    </tr>\n",
       "  </tbody>\n",
       "</table>\n",
       "<p>94992 rows × 9 columns</p>\n",
       "</div>"
      ],
      "text/plain": [
       "       row_id            datetime       energy  hour  day  weekday  day_name  \\\n",
       "0           1 2008-03-01 00:00:00  1259.985563     0    1        5  Saturday   \n",
       "1           2 2008-03-01 01:00:00  1095.541500     1    1        5  Saturday   \n",
       "2           3 2008-03-01 02:00:00  1056.247500     2    1        5  Saturday   \n",
       "3           4 2008-03-01 03:00:00  1034.742000     3    1        5  Saturday   \n",
       "4           5 2008-03-01 04:00:00  1026.334500     4    1        5  Saturday   \n",
       "...       ...                 ...          ...   ...  ...      ...       ...   \n",
       "94987   94988 2018-12-31 19:00:00  2528.446800    19   31        0    Monday   \n",
       "94988   94989 2018-12-31 20:00:00  2461.883600    20   31        0    Monday   \n",
       "94989   94990 2018-12-31 21:00:00  2365.994400    21   31        0    Monday   \n",
       "94990   94991 2018-12-31 22:00:00  2342.942800    22   31        0    Monday   \n",
       "94991   94992 2018-12-31 23:00:00  2180.217600    23   31        0    Monday   \n",
       "\n",
       "       month  year  \n",
       "0          3  2008  \n",
       "1          3  2008  \n",
       "2          3  2008  \n",
       "3          3  2008  \n",
       "4          3  2008  \n",
       "...      ...   ...  \n",
       "94987     12  2018  \n",
       "94988     12  2018  \n",
       "94989     12  2018  \n",
       "94990     12  2018  \n",
       "94991     12  2018  \n",
       "\n",
       "[94992 rows x 9 columns]"
      ]
     },
     "execution_count": 13,
     "metadata": {},
     "output_type": "execute_result"
    }
   ],
   "source": [
    "df"
   ]
  },
  {
   "cell_type": "code",
   "execution_count": 14,
   "id": "b63be306",
   "metadata": {},
   "outputs": [
    {
     "data": {
      "text/plain": [
       "row_id      0\n",
       "datetime    0\n",
       "energy      0\n",
       "hour        0\n",
       "day         0\n",
       "weekday     0\n",
       "day_name    0\n",
       "month       0\n",
       "year        0\n",
       "dtype: int64"
      ]
     },
     "execution_count": 14,
     "metadata": {},
     "output_type": "execute_result"
    }
   ],
   "source": [
    "df.isnull().sum()"
   ]
  },
  {
   "cell_type": "code",
   "execution_count": 15,
   "id": "2afe9cf2",
   "metadata": {},
   "outputs": [
    {
     "data": {
      "text/plain": [
       "year\n",
       "2008    7344\n",
       "2009    8760\n",
       "2010    8760\n",
       "2011    8760\n",
       "2012    8784\n",
       "2013    8760\n",
       "2014    8760\n",
       "2015    8760\n",
       "2016    8784\n",
       "2017    8760\n",
       "2018    8760\n",
       "dtype: int64"
      ]
     },
     "execution_count": 15,
     "metadata": {},
     "output_type": "execute_result"
    }
   ],
   "source": [
    "df.groupby('year').size()"
   ]
  },
  {
   "cell_type": "code",
   "execution_count": 16,
   "id": "21e95b53",
   "metadata": {},
   "outputs": [
    {
     "data": {
      "text/plain": [
       "8784"
      ]
     },
     "execution_count": 16,
     "metadata": {},
     "output_type": "execute_result"
    }
   ],
   "source": [
    "max_year=max(df.groupby('year').size())\n",
    "max_year"
   ]
  },
  {
   "cell_type": "markdown",
   "id": "97760b28",
   "metadata": {},
   "source": []
  },
  {
   "cell_type": "code",
   "execution_count": 17,
   "id": "be2da4f9",
   "metadata": {},
   "outputs": [
    {
     "data": {
      "text/plain": [
       "month\n",
       "1     7440\n",
       "2     6768\n",
       "3     8184\n",
       "4     7920\n",
       "5     8184\n",
       "6     7920\n",
       "7     8184\n",
       "8     8184\n",
       "9     7920\n",
       "10    8184\n",
       "11    7920\n",
       "12    8184\n",
       "dtype: int64"
      ]
     },
     "execution_count": 17,
     "metadata": {},
     "output_type": "execute_result"
    }
   ],
   "source": [
    "df.groupby('month').size()"
   ]
  },
  {
   "cell_type": "code",
   "execution_count": 18,
   "id": "f8d201eb",
   "metadata": {},
   "outputs": [
    {
     "data": {
      "text/plain": [
       "8184"
      ]
     },
     "execution_count": 18,
     "metadata": {},
     "output_type": "execute_result"
    }
   ],
   "source": [
    "max_month=max(df.groupby('month').size())\n",
    "max_month"
   ]
  },
  {
   "cell_type": "code",
   "execution_count": 19,
   "id": "3a6a23b1",
   "metadata": {},
   "outputs": [
    {
     "data": {
      "text/plain": [
       "day\n",
       "1     3120\n",
       "2     3120\n",
       "3     3120\n",
       "4     3120\n",
       "5     3120\n",
       "6     3120\n",
       "7     3120\n",
       "8     3120\n",
       "9     3120\n",
       "10    3120\n",
       "11    3120\n",
       "12    3120\n",
       "13    3120\n",
       "14    3120\n",
       "15    3120\n",
       "16    3120\n",
       "17    3120\n",
       "18    3120\n",
       "19    3120\n",
       "20    3120\n",
       "21    3120\n",
       "22    3120\n",
       "23    3120\n",
       "24    3120\n",
       "25    3120\n",
       "26    3120\n",
       "27    3120\n",
       "28    3120\n",
       "29    2928\n",
       "30    2880\n",
       "31    1824\n",
       "dtype: int64"
      ]
     },
     "execution_count": 19,
     "metadata": {},
     "output_type": "execute_result"
    }
   ],
   "source": [
    "df.groupby('day').size()"
   ]
  },
  {
   "cell_type": "code",
   "execution_count": 20,
   "id": "ddc27f26",
   "metadata": {},
   "outputs": [
    {
     "data": {
      "text/plain": [
       "3120"
      ]
     },
     "execution_count": 20,
     "metadata": {},
     "output_type": "execute_result"
    }
   ],
   "source": [
    "max_day=max(df.groupby('day').size())\n",
    "max_day"
   ]
  },
  {
   "cell_type": "code",
   "execution_count": 21,
   "id": "a8a7dc2d",
   "metadata": {},
   "outputs": [
    {
     "data": {
      "text/plain": [
       "hour\n",
       "0     3958\n",
       "1     3958\n",
       "2     3958\n",
       "3     3958\n",
       "4     3958\n",
       "5     3958\n",
       "6     3958\n",
       "7     3958\n",
       "8     3958\n",
       "9     3958\n",
       "10    3958\n",
       "11    3958\n",
       "12    3958\n",
       "13    3958\n",
       "14    3958\n",
       "15    3958\n",
       "16    3958\n",
       "17    3958\n",
       "18    3958\n",
       "19    3958\n",
       "20    3958\n",
       "21    3958\n",
       "22    3958\n",
       "23    3958\n",
       "dtype: int64"
      ]
     },
     "execution_count": 21,
     "metadata": {},
     "output_type": "execute_result"
    }
   ],
   "source": [
    "df.groupby('hour').size()"
   ]
  },
  {
   "cell_type": "code",
   "execution_count": 22,
   "id": "d1cc40bc",
   "metadata": {
    "scrolled": true
   },
   "outputs": [
    {
     "data": {
      "text/plain": [
       "day_name\n",
       "Friday       13560\n",
       "Monday       13584\n",
       "Saturday     13584\n",
       "Sunday       13584\n",
       "Thursday     13560\n",
       "Tuesday      13560\n",
       "Wednesday    13560\n",
       "dtype: int64"
      ]
     },
     "execution_count": 22,
     "metadata": {},
     "output_type": "execute_result"
    }
   ],
   "source": [
    "df.groupby('day_name').size()"
   ]
  },
  {
   "cell_type": "code",
   "execution_count": 23,
   "id": "e244282e",
   "metadata": {},
   "outputs": [
    {
     "data": {
      "text/plain": [
       "13584"
      ]
     },
     "execution_count": 23,
     "metadata": {},
     "output_type": "execute_result"
    }
   ],
   "source": [
    "max_day=max(df.groupby('day_name').size())\n",
    "max_day"
   ]
  },
  {
   "cell_type": "code",
   "execution_count": 24,
   "id": "315edc0e",
   "metadata": {},
   "outputs": [
    {
     "data": {
      "text/plain": [
       "weekday\n",
       "0    13584\n",
       "1    13560\n",
       "2    13560\n",
       "3    13560\n",
       "4    13560\n",
       "5    13584\n",
       "6    13584\n",
       "dtype: int64"
      ]
     },
     "execution_count": 24,
     "metadata": {},
     "output_type": "execute_result"
    }
   ],
   "source": [
    "df.groupby('weekday').size()"
   ]
  },
  {
   "cell_type": "code",
   "execution_count": 25,
   "id": "5b78a9b9",
   "metadata": {},
   "outputs": [
    {
     "data": {
      "text/plain": [
       "<seaborn.axisgrid.FacetGrid at 0x237baa99ee0>"
      ]
     },
     "execution_count": 25,
     "metadata": {},
     "output_type": "execute_result"
    },
    {
     "data": {
      "image/png": "[encoded data removed]",
      "text/plain": [
       "<Figure size 360x360 with 1 Axes>"
      ]
     },
     "metadata": {
      "needs_background": "light"
     },
     "output_type": "display_data"
    }
   ],
   "source": [
    "sns.displot(x=df['energy'])"
   ]
  },
  {
   "cell_type": "code",
   "execution_count": 26,
   "id": "6d09a1ac",
   "metadata": {},
   "outputs": [
    {
     "data": {
      "text/html": [
       "<div>\n",
       "<style scoped>\n",
       "    .dataframe tbody tr th:only-of-type {\n",
       "        vertical-align: middle;\n",
       "    }\n",
       "\n",
       "    .dataframe tbody tr th {\n",
       "        vertical-align: top;\n",
       "    }\n",
       "\n",
       "    .dataframe thead th {\n",
       "        text-align: right;\n",
       "    }\n",
       "</style>\n",
       "<table border=\"1\" class=\"dataframe\">\n",
       "  <thead>\n",
       "    <tr style=\"text-align: right;\">\n",
       "      <th></th>\n",
       "      <th>year</th>\n",
       "      <th>month</th>\n",
       "      <th>day_name</th>\n",
       "      <th>0</th>\n",
       "    </tr>\n",
       "  </thead>\n",
       "  <tbody>\n",
       "    <tr>\n",
       "      <th>0</th>\n",
       "      <td>2008</td>\n",
       "      <td>3</td>\n",
       "      <td>Friday</td>\n",
       "      <td>96</td>\n",
       "    </tr>\n",
       "    <tr>\n",
       "      <th>1</th>\n",
       "      <td>2008</td>\n",
       "      <td>3</td>\n",
       "      <td>Monday</td>\n",
       "      <td>120</td>\n",
       "    </tr>\n",
       "    <tr>\n",
       "      <th>2</th>\n",
       "      <td>2008</td>\n",
       "      <td>3</td>\n",
       "      <td>Saturday</td>\n",
       "      <td>120</td>\n",
       "    </tr>\n",
       "    <tr>\n",
       "      <th>3</th>\n",
       "      <td>2008</td>\n",
       "      <td>3</td>\n",
       "      <td>Sunday</td>\n",
       "      <td>120</td>\n",
       "    </tr>\n",
       "    <tr>\n",
       "      <th>4</th>\n",
       "      <td>2008</td>\n",
       "      <td>3</td>\n",
       "      <td>Thursday</td>\n",
       "      <td>96</td>\n",
       "    </tr>\n",
       "    <tr>\n",
       "      <th>...</th>\n",
       "      <td>...</td>\n",
       "      <td>...</td>\n",
       "      <td>...</td>\n",
       "      <td>...</td>\n",
       "    </tr>\n",
       "    <tr>\n",
       "      <th>905</th>\n",
       "      <td>2018</td>\n",
       "      <td>12</td>\n",
       "      <td>Saturday</td>\n",
       "      <td>120</td>\n",
       "    </tr>\n",
       "    <tr>\n",
       "      <th>906</th>\n",
       "      <td>2018</td>\n",
       "      <td>12</td>\n",
       "      <td>Sunday</td>\n",
       "      <td>120</td>\n",
       "    </tr>\n",
       "    <tr>\n",
       "      <th>907</th>\n",
       "      <td>2018</td>\n",
       "      <td>12</td>\n",
       "      <td>Thursday</td>\n",
       "      <td>96</td>\n",
       "    </tr>\n",
       "    <tr>\n",
       "      <th>908</th>\n",
       "      <td>2018</td>\n",
       "      <td>12</td>\n",
       "      <td>Tuesday</td>\n",
       "      <td>96</td>\n",
       "    </tr>\n",
       "    <tr>\n",
       "      <th>909</th>\n",
       "      <td>2018</td>\n",
       "      <td>12</td>\n",
       "      <td>Wednesday</td>\n",
       "      <td>96</td>\n",
       "    </tr>\n",
       "  </tbody>\n",
       "</table>\n",
       "<p>910 rows × 4 columns</p>\n",
       "</div>"
      ],
      "text/plain": [
       "     year  month   day_name    0\n",
       "0    2008      3     Friday   96\n",
       "1    2008      3     Monday  120\n",
       "2    2008      3   Saturday  120\n",
       "3    2008      3     Sunday  120\n",
       "4    2008      3   Thursday   96\n",
       "..    ...    ...        ...  ...\n",
       "905  2018     12   Saturday  120\n",
       "906  2018     12     Sunday  120\n",
       "907  2018     12   Thursday   96\n",
       "908  2018     12    Tuesday   96\n",
       "909  2018     12  Wednesday   96\n",
       "\n",
       "[910 rows x 4 columns]"
      ]
     },
     "execution_count": 26,
     "metadata": {},
     "output_type": "execute_result"
    }
   ],
   "source": [
    "a=df.groupby(['year','month','day_name']).size().reset_index()\n",
    "a"
   ]
  },
  {
   "cell_type": "code",
   "execution_count": 27,
   "id": "a6dbf8a7",
   "metadata": {},
   "outputs": [],
   "source": [
    "#### from above we conclude that maximum engergy utilization is at year 2016 ie 8784 units\n",
    "#### on weekday saturnday, sunday monday maximum utilization on energy ie 13584  of each to total units utilized."
   ]
  },
  {
   "cell_type": "code",
   "execution_count": 28,
   "id": "4d1a3cda",
   "metadata": {},
   "outputs": [
    {
     "data": {
      "text/html": [
       "<div>\n",
       "<style scoped>\n",
       "    .dataframe tbody tr th:only-of-type {\n",
       "        vertical-align: middle;\n",
       "    }\n",
       "\n",
       "    .dataframe tbody tr th {\n",
       "        vertical-align: top;\n",
       "    }\n",
       "\n",
       "    .dataframe thead th {\n",
       "        text-align: right;\n",
       "    }\n",
       "</style>\n",
       "<table border=\"1\" class=\"dataframe\">\n",
       "  <thead>\n",
       "    <tr style=\"text-align: right;\">\n",
       "      <th></th>\n",
       "      <th>row_id</th>\n",
       "      <th>energy</th>\n",
       "      <th>hour</th>\n",
       "      <th>day</th>\n",
       "      <th>weekday</th>\n",
       "      <th>month</th>\n",
       "      <th>year</th>\n",
       "    </tr>\n",
       "  </thead>\n",
       "  <tbody>\n",
       "    <tr>\n",
       "      <th>row_id</th>\n",
       "      <td>1.000000e+00</td>\n",
       "      <td>0.606493</td>\n",
       "      <td>2.524334e-04</td>\n",
       "      <td>7.656764e-03</td>\n",
       "      <td>-5.526395e-07</td>\n",
       "      <td>5.519995e-02</td>\n",
       "      <td>9.958134e-01</td>\n",
       "    </tr>\n",
       "    <tr>\n",
       "      <th>energy</th>\n",
       "      <td>6.064933e-01</td>\n",
       "      <td>1.000000</td>\n",
       "      <td>3.170308e-01</td>\n",
       "      <td>4.218785e-03</td>\n",
       "      <td>2.349555e-02</td>\n",
       "      <td>6.144571e-02</td>\n",
       "      <td>6.013790e-01</td>\n",
       "    </tr>\n",
       "    <tr>\n",
       "      <th>hour</th>\n",
       "      <td>2.524334e-04</td>\n",
       "      <td>0.317031</td>\n",
       "      <td>1.000000e+00</td>\n",
       "      <td>2.833394e-18</td>\n",
       "      <td>-9.182093e-18</td>\n",
       "      <td>-1.244127e-16</td>\n",
       "      <td>4.164782e-15</td>\n",
       "    </tr>\n",
       "    <tr>\n",
       "      <th>day</th>\n",
       "      <td>7.656764e-03</td>\n",
       "      <td>0.004219</td>\n",
       "      <td>2.833394e-18</td>\n",
       "      <td>1.000000e+00</td>\n",
       "      <td>8.254339e-04</td>\n",
       "      <td>1.022461e-02</td>\n",
       "      <td>-9.634835e-04</td>\n",
       "    </tr>\n",
       "    <tr>\n",
       "      <th>weekday</th>\n",
       "      <td>-5.526395e-07</td>\n",
       "      <td>0.023496</td>\n",
       "      <td>-9.182093e-18</td>\n",
       "      <td>8.254339e-04</td>\n",
       "      <td>1.000000e+00</td>\n",
       "      <td>-1.337596e-03</td>\n",
       "      <td>1.151548e-04</td>\n",
       "    </tr>\n",
       "    <tr>\n",
       "      <th>month</th>\n",
       "      <td>5.519995e-02</td>\n",
       "      <td>0.061446</td>\n",
       "      <td>-1.244127e-16</td>\n",
       "      <td>1.022461e-02</td>\n",
       "      <td>-1.337596e-03</td>\n",
       "      <td>1.000000e+00</td>\n",
       "      <td>-3.597518e-02</td>\n",
       "    </tr>\n",
       "    <tr>\n",
       "      <th>year</th>\n",
       "      <td>9.958134e-01</td>\n",
       "      <td>0.601379</td>\n",
       "      <td>4.164782e-15</td>\n",
       "      <td>-9.634835e-04</td>\n",
       "      <td>1.151548e-04</td>\n",
       "      <td>-3.597518e-02</td>\n",
       "      <td>1.000000e+00</td>\n",
       "    </tr>\n",
       "  </tbody>\n",
       "</table>\n",
       "</div>"
      ],
      "text/plain": [
       "               row_id    energy          hour           day       weekday  \\\n",
       "row_id   1.000000e+00  0.606493  2.524334e-04  7.656764e-03 -5.526395e-07   \n",
       "energy   6.064933e-01  1.000000  3.170308e-01  4.218785e-03  2.349555e-02   \n",
       "hour     2.524334e-04  0.317031  1.000000e+00  2.833394e-18 -9.182093e-18   \n",
       "day      7.656764e-03  0.004219  2.833394e-18  1.000000e+00  8.254339e-04   \n",
       "weekday -5.526395e-07  0.023496 -9.182093e-18  8.254339e-04  1.000000e+00   \n",
       "month    5.519995e-02  0.061446 -1.244127e-16  1.022461e-02 -1.337596e-03   \n",
       "year     9.958134e-01  0.601379  4.164782e-15 -9.634835e-04  1.151548e-04   \n",
       "\n",
       "                month          year  \n",
       "row_id   5.519995e-02  9.958134e-01  \n",
       "energy   6.144571e-02  6.013790e-01  \n",
       "hour    -1.244127e-16  4.164782e-15  \n",
       "day      1.022461e-02 -9.634835e-04  \n",
       "weekday -1.337596e-03  1.151548e-04  \n",
       "month    1.000000e+00 -3.597518e-02  \n",
       "year    -3.597518e-02  1.000000e+00  "
      ]
     },
     "execution_count": 28,
     "metadata": {},
     "output_type": "execute_result"
    }
   ],
   "source": [
    "a=df.corr()\n",
    "a"
   ]
  },
  {
   "cell_type": "code",
   "execution_count": 29,
   "id": "fafd9bc4",
   "metadata": {},
   "outputs": [
    {
     "data": {
      "text/plain": [
       "<AxesSubplot:>"
      ]
     },
     "execution_count": 29,
     "metadata": {},
     "output_type": "execute_result"
    },
    {
     "data": {
      "image/png": "[encoded data removed]",
      "text/plain": [
       "<Figure size 432x288 with 2 Axes>"
      ]
     },
     "metadata": {
      "needs_background": "light"
     },
     "output_type": "display_data"
    }
   ],
   "source": [
    "sns.heatmap(a,)"
   ]
  },
  {
   "cell_type": "code",
   "execution_count": null,
   "id": "c450d0fe",
   "metadata": {},
   "outputs": [],
   "source": []
  }
 ],
 "metadata": {
  "kernelspec": {
   "display_name": "Python 3 (ipykernel)",
   "language": "python",
   "name": "python3"
  },
  "language_info": {
   "codemirror_mode": {
    "name": "ipython",
    "version": 3
   },
   "file_extension": ".py",
   "mimetype": "text/x-python",
   "name": "python",
   "nbconvert_exporter": "python",
   "pygments_lexer": "ipython3",
   "version": "3.9.12"
  }
 },
 "nbformat": 4,
 "nbformat_minor": 5
}
